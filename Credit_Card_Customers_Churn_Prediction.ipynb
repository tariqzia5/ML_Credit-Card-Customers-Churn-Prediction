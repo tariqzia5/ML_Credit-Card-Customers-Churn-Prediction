{
  "nbformat": 4,
  "nbformat_minor": 0,
  "metadata": {
    "colab": {
      "provenance": [],
      "include_colab_link": true
    },
    "kernelspec": {
      "name": "python3",
      "display_name": "Python 3"
    },
    "language_info": {
      "name": "python"
    }
  },
  "cells": [
    {
      "cell_type": "markdown",
      "metadata": {
        "id": "view-in-github",
        "colab_type": "text"
      },
      "source": [
        "<a href=\"https://colab.research.google.com/github/tariqzia5/ML_Credit-Card-Customers-Churn-Prediction/blob/main/Credit_Card_Customers_Churn_Prediction.ipynb\" target=\"_parent\"><img src=\"https://colab.research.google.com/assets/colab-badge.svg\" alt=\"Open In Colab\"/></a>"
      ]
    },
    {
      "cell_type": "markdown",
      "source": [
        "# Problem Statement\n",
        "Data Link: https://www.kaggle.com/datasets/sakshigoyal7/credit-card-customers?datasetId=982921&sortBy=voteCount\n",
        "\n",
        "# About Dataset\n",
        "\n",
        "A manager at the bank is disturbed with more and more customers leaving their credit card services. They would really appreciate if one could predict for them who is gonna get churned so they can proactively go to the customer to provide them better services and turn customers' decisions in the opposite direction\n",
        "\n",
        " https://leaps.analyttica.com/home.  The site explains how to solve a particular business problem.\n",
        "\n",
        "This dataset consists of 10,000 customers mentioning their age, salary, marital_status, credit card limit, credit card category, etc. There are nearly 18 features.\n",
        "\n"
      ],
      "metadata": {
        "id": "C5tVaQQWSLzw"
      }
    },
    {
      "cell_type": "markdown",
      "source": [
        "# Project Objective\n",
        "Background Goal, Number of Resources, Business Impact, Time Taken"
      ],
      "metadata": {
        "id": "0iJWWCAuSpaA"
      }
    },
    {
      "cell_type": "markdown",
      "source": [
        "#Problem Context\n",
        "A business manager of a consumer credit card portfolio is facing the problem of customer attrition.\n",
        "They want to analyze the data to find out the reason behind this and leverage the same to predict customers who are likely to drop off.\n",
        "-->Why are they churning?\n",
        "1) New customers are churning becan acquiring a new use the sole purpose of the customers involves applying for a credit card, getting approved,\n",
        " meeting a minimum spend within a set amount of time a large welcome bonus, and canceling the card before the next annual fee is due.\n",
        "Once this is complete, the process is simply repeated again and again.\n",
        "2) Old customers may feel unappreciated because they don’t get as many bonuses as the new ones.\n",
        "\n",
        "# Solution\n",
        "The company needs to satisfy the already existing customers by providing them exiciting schemes.\n",
        "As the cost of retaining an existing customer is far less than acquiring a new one."
      ],
      "metadata": {
        "id": "leaKRyjADDec"
      }
    },
    {
      "cell_type": "markdown",
      "source": [
        "# Data Exploration and Validation"
      ],
      "metadata": {
        "id": "lguUJ-9TSvSQ"
      }
    },
    {
      "cell_type": "code",
      "source": [
        "import matplotlib.pyplot as plt \n",
        "import pandas as pd\n",
        "import seaborn as sns\n",
        "Bank_Churners = pd.read_csv('https://raw.githubusercontent.com/tariqzia5/ML_Credit-Card-Customers-Churn-Prediction/main/BankChurners.csv')\n",
        "Bank_Churners.T"
      ],
      "metadata": {
        "id": "Frhz_Bs9SyL-",
        "colab": {
          "base_uri": "https://localhost:8080/",
          "height": 916
        },
        "outputId": "a7d927c0-71d7-412a-c1c8-cdd753e1e6f0"
      },
      "execution_count": 2,
      "outputs": [
        {
          "output_type": "execute_result",
          "data": {
            "text/plain": [
              "                                                                0      \\\n",
              "CLIENTNUM                                                   768805383   \n",
              "Attrition_Flag                                      Existing Customer   \n",
              "Customer_Age                                                       45   \n",
              "Gender                                                              M   \n",
              "Dependent_count                                                     3   \n",
              "Education_Level                                           High School   \n",
              "Marital_Status                                                Married   \n",
              "Income_Category                                           $60K - $80K   \n",
              "Card_Category                                                    Blue   \n",
              "Months_on_book                                                     39   \n",
              "Total_Relationship_Count                                            5   \n",
              "Months_Inactive_12_mon                                              1   \n",
              "Contacts_Count_12_mon                                               3   \n",
              "Credit_Limit                                                  12691.0   \n",
              "Total_Revolving_Bal                                               777   \n",
              "Avg_Open_To_Buy                                               11914.0   \n",
              "Total_Amt_Chng_Q4_Q1                                            1.335   \n",
              "Total_Trans_Amt                                                  1144   \n",
              "Total_Trans_Ct                                                     42   \n",
              "Total_Ct_Chng_Q4_Q1                                             1.625   \n",
              "Avg_Utilization_Ratio                                           0.061   \n",
              "Naive_Bayes_Classifier_Attrition_Flag_Card_Cate...           0.000093   \n",
              "Naive_Bayes_Classifier_Attrition_Flag_Card_Cate...            0.99991   \n",
              "\n",
              "                                                                1      \\\n",
              "CLIENTNUM                                                   818770008   \n",
              "Attrition_Flag                                      Existing Customer   \n",
              "Customer_Age                                                       49   \n",
              "Gender                                                              F   \n",
              "Dependent_count                                                     5   \n",
              "Education_Level                                              Graduate   \n",
              "Marital_Status                                                 Single   \n",
              "Income_Category                                        Less than $40K   \n",
              "Card_Category                                                    Blue   \n",
              "Months_on_book                                                     44   \n",
              "Total_Relationship_Count                                            6   \n",
              "Months_Inactive_12_mon                                              1   \n",
              "Contacts_Count_12_mon                                               2   \n",
              "Credit_Limit                                                   8256.0   \n",
              "Total_Revolving_Bal                                               864   \n",
              "Avg_Open_To_Buy                                                7392.0   \n",
              "Total_Amt_Chng_Q4_Q1                                            1.541   \n",
              "Total_Trans_Amt                                                  1291   \n",
              "Total_Trans_Ct                                                     33   \n",
              "Total_Ct_Chng_Q4_Q1                                             3.714   \n",
              "Avg_Utilization_Ratio                                           0.105   \n",
              "Naive_Bayes_Classifier_Attrition_Flag_Card_Cate...           0.000057   \n",
              "Naive_Bayes_Classifier_Attrition_Flag_Card_Cate...            0.99994   \n",
              "\n",
              "                                                                2      \\\n",
              "CLIENTNUM                                                   713982108   \n",
              "Attrition_Flag                                      Existing Customer   \n",
              "Customer_Age                                                       51   \n",
              "Gender                                                              M   \n",
              "Dependent_count                                                     3   \n",
              "Education_Level                                              Graduate   \n",
              "Marital_Status                                                Married   \n",
              "Income_Category                                          $80K - $120K   \n",
              "Card_Category                                                    Blue   \n",
              "Months_on_book                                                     36   \n",
              "Total_Relationship_Count                                            4   \n",
              "Months_Inactive_12_mon                                              1   \n",
              "Contacts_Count_12_mon                                               0   \n",
              "Credit_Limit                                                   3418.0   \n",
              "Total_Revolving_Bal                                                 0   \n",
              "Avg_Open_To_Buy                                                3418.0   \n",
              "Total_Amt_Chng_Q4_Q1                                            2.594   \n",
              "Total_Trans_Amt                                                  1887   \n",
              "Total_Trans_Ct                                                     20   \n",
              "Total_Ct_Chng_Q4_Q1                                             2.333   \n",
              "Avg_Utilization_Ratio                                             0.0   \n",
              "Naive_Bayes_Classifier_Attrition_Flag_Card_Cate...           0.000021   \n",
              "Naive_Bayes_Classifier_Attrition_Flag_Card_Cate...            0.99998   \n",
              "\n",
              "                                                                3      \\\n",
              "CLIENTNUM                                                   769911858   \n",
              "Attrition_Flag                                      Existing Customer   \n",
              "Customer_Age                                                       40   \n",
              "Gender                                                              F   \n",
              "Dependent_count                                                     4   \n",
              "Education_Level                                           High School   \n",
              "Marital_Status                                                Unknown   \n",
              "Income_Category                                        Less than $40K   \n",
              "Card_Category                                                    Blue   \n",
              "Months_on_book                                                     34   \n",
              "Total_Relationship_Count                                            3   \n",
              "Months_Inactive_12_mon                                              4   \n",
              "Contacts_Count_12_mon                                               1   \n",
              "Credit_Limit                                                   3313.0   \n",
              "Total_Revolving_Bal                                              2517   \n",
              "Avg_Open_To_Buy                                                 796.0   \n",
              "Total_Amt_Chng_Q4_Q1                                            1.405   \n",
              "Total_Trans_Amt                                                  1171   \n",
              "Total_Trans_Ct                                                     20   \n",
              "Total_Ct_Chng_Q4_Q1                                             2.333   \n",
              "Avg_Utilization_Ratio                                            0.76   \n",
              "Naive_Bayes_Classifier_Attrition_Flag_Card_Cate...           0.000134   \n",
              "Naive_Bayes_Classifier_Attrition_Flag_Card_Cate...            0.99987   \n",
              "\n",
              "                                                                4      \\\n",
              "CLIENTNUM                                                   709106358   \n",
              "Attrition_Flag                                      Existing Customer   \n",
              "Customer_Age                                                       40   \n",
              "Gender                                                              M   \n",
              "Dependent_count                                                     3   \n",
              "Education_Level                                            Uneducated   \n",
              "Marital_Status                                                Married   \n",
              "Income_Category                                           $60K - $80K   \n",
              "Card_Category                                                    Blue   \n",
              "Months_on_book                                                     21   \n",
              "Total_Relationship_Count                                            5   \n",
              "Months_Inactive_12_mon                                              1   \n",
              "Contacts_Count_12_mon                                               0   \n",
              "Credit_Limit                                                   4716.0   \n",
              "Total_Revolving_Bal                                                 0   \n",
              "Avg_Open_To_Buy                                                4716.0   \n",
              "Total_Amt_Chng_Q4_Q1                                            2.175   \n",
              "Total_Trans_Amt                                                   816   \n",
              "Total_Trans_Ct                                                     28   \n",
              "Total_Ct_Chng_Q4_Q1                                               2.5   \n",
              "Avg_Utilization_Ratio                                             0.0   \n",
              "Naive_Bayes_Classifier_Attrition_Flag_Card_Cate...           0.000022   \n",
              "Naive_Bayes_Classifier_Attrition_Flag_Card_Cate...            0.99998   \n",
              "\n",
              "                                                                5      \\\n",
              "CLIENTNUM                                                   713061558   \n",
              "Attrition_Flag                                      Existing Customer   \n",
              "Customer_Age                                                       44   \n",
              "Gender                                                              M   \n",
              "Dependent_count                                                     2   \n",
              "Education_Level                                              Graduate   \n",
              "Marital_Status                                                Married   \n",
              "Income_Category                                           $40K - $60K   \n",
              "Card_Category                                                    Blue   \n",
              "Months_on_book                                                     36   \n",
              "Total_Relationship_Count                                            3   \n",
              "Months_Inactive_12_mon                                              1   \n",
              "Contacts_Count_12_mon                                               2   \n",
              "Credit_Limit                                                   4010.0   \n",
              "Total_Revolving_Bal                                              1247   \n",
              "Avg_Open_To_Buy                                                2763.0   \n",
              "Total_Amt_Chng_Q4_Q1                                            1.376   \n",
              "Total_Trans_Amt                                                  1088   \n",
              "Total_Trans_Ct                                                     24   \n",
              "Total_Ct_Chng_Q4_Q1                                             0.846   \n",
              "Avg_Utilization_Ratio                                           0.311   \n",
              "Naive_Bayes_Classifier_Attrition_Flag_Card_Cate...           0.000055   \n",
              "Naive_Bayes_Classifier_Attrition_Flag_Card_Cate...            0.99994   \n",
              "\n",
              "                                                                6      \\\n",
              "CLIENTNUM                                                   810347208   \n",
              "Attrition_Flag                                      Existing Customer   \n",
              "Customer_Age                                                       51   \n",
              "Gender                                                              M   \n",
              "Dependent_count                                                     4   \n",
              "Education_Level                                               Unknown   \n",
              "Marital_Status                                                Married   \n",
              "Income_Category                                               $120K +   \n",
              "Card_Category                                                    Gold   \n",
              "Months_on_book                                                     46   \n",
              "Total_Relationship_Count                                            6   \n",
              "Months_Inactive_12_mon                                              1   \n",
              "Contacts_Count_12_mon                                               3   \n",
              "Credit_Limit                                                  34516.0   \n",
              "Total_Revolving_Bal                                              2264   \n",
              "Avg_Open_To_Buy                                               32252.0   \n",
              "Total_Amt_Chng_Q4_Q1                                            1.975   \n",
              "Total_Trans_Amt                                                  1330   \n",
              "Total_Trans_Ct                                                     31   \n",
              "Total_Ct_Chng_Q4_Q1                                             0.722   \n",
              "Avg_Utilization_Ratio                                           0.066   \n",
              "Naive_Bayes_Classifier_Attrition_Flag_Card_Cate...           0.000123   \n",
              "Naive_Bayes_Classifier_Attrition_Flag_Card_Cate...            0.99988   \n",
              "\n",
              "                                                                7      \\\n",
              "CLIENTNUM                                                   818906208   \n",
              "Attrition_Flag                                      Existing Customer   \n",
              "Customer_Age                                                       32   \n",
              "Gender                                                              M   \n",
              "Dependent_count                                                     0   \n",
              "Education_Level                                           High School   \n",
              "Marital_Status                                                Unknown   \n",
              "Income_Category                                           $60K - $80K   \n",
              "Card_Category                                                  Silver   \n",
              "Months_on_book                                                     27   \n",
              "Total_Relationship_Count                                            2   \n",
              "Months_Inactive_12_mon                                              2   \n",
              "Contacts_Count_12_mon                                               2   \n",
              "Credit_Limit                                                  29081.0   \n",
              "Total_Revolving_Bal                                              1396   \n",
              "Avg_Open_To_Buy                                               27685.0   \n",
              "Total_Amt_Chng_Q4_Q1                                            2.204   \n",
              "Total_Trans_Amt                                                  1538   \n",
              "Total_Trans_Ct                                                     36   \n",
              "Total_Ct_Chng_Q4_Q1                                             0.714   \n",
              "Avg_Utilization_Ratio                                           0.048   \n",
              "Naive_Bayes_Classifier_Attrition_Flag_Card_Cate...           0.000086   \n",
              "Naive_Bayes_Classifier_Attrition_Flag_Card_Cate...            0.99991   \n",
              "\n",
              "                                                                8      \\\n",
              "CLIENTNUM                                                   710930508   \n",
              "Attrition_Flag                                      Existing Customer   \n",
              "Customer_Age                                                       37   \n",
              "Gender                                                              M   \n",
              "Dependent_count                                                     3   \n",
              "Education_Level                                            Uneducated   \n",
              "Marital_Status                                                 Single   \n",
              "Income_Category                                           $60K - $80K   \n",
              "Card_Category                                                    Blue   \n",
              "Months_on_book                                                     36   \n",
              "Total_Relationship_Count                                            5   \n",
              "Months_Inactive_12_mon                                              2   \n",
              "Contacts_Count_12_mon                                               0   \n",
              "Credit_Limit                                                  22352.0   \n",
              "Total_Revolving_Bal                                              2517   \n",
              "Avg_Open_To_Buy                                               19835.0   \n",
              "Total_Amt_Chng_Q4_Q1                                            3.355   \n",
              "Total_Trans_Amt                                                  1350   \n",
              "Total_Trans_Ct                                                     24   \n",
              "Total_Ct_Chng_Q4_Q1                                             1.182   \n",
              "Avg_Utilization_Ratio                                           0.113   \n",
              "Naive_Bayes_Classifier_Attrition_Flag_Card_Cate...           0.000045   \n",
              "Naive_Bayes_Classifier_Attrition_Flag_Card_Cate...            0.99996   \n",
              "\n",
              "                                                                9      ...  \\\n",
              "CLIENTNUM                                                   719661558  ...   \n",
              "Attrition_Flag                                      Existing Customer  ...   \n",
              "Customer_Age                                                       48  ...   \n",
              "Gender                                                              M  ...   \n",
              "Dependent_count                                                     2  ...   \n",
              "Education_Level                                              Graduate  ...   \n",
              "Marital_Status                                                 Single  ...   \n",
              "Income_Category                                          $80K - $120K  ...   \n",
              "Card_Category                                                    Blue  ...   \n",
              "Months_on_book                                                     36  ...   \n",
              "Total_Relationship_Count                                            6  ...   \n",
              "Months_Inactive_12_mon                                              3  ...   \n",
              "Contacts_Count_12_mon                                               3  ...   \n",
              "Credit_Limit                                                  11656.0  ...   \n",
              "Total_Revolving_Bal                                              1677  ...   \n",
              "Avg_Open_To_Buy                                                9979.0  ...   \n",
              "Total_Amt_Chng_Q4_Q1                                            1.524  ...   \n",
              "Total_Trans_Amt                                                  1441  ...   \n",
              "Total_Trans_Ct                                                     32  ...   \n",
              "Total_Ct_Chng_Q4_Q1                                             0.882  ...   \n",
              "Avg_Utilization_Ratio                                           0.144  ...   \n",
              "Naive_Bayes_Classifier_Attrition_Flag_Card_Cate...           0.000303  ...   \n",
              "Naive_Bayes_Classifier_Attrition_Flag_Card_Cate...             0.9997  ...   \n",
              "\n",
              "                                                                10117  \\\n",
              "CLIENTNUM                                                   712503408   \n",
              "Attrition_Flag                                      Existing Customer   \n",
              "Customer_Age                                                       57   \n",
              "Gender                                                              M   \n",
              "Dependent_count                                                     2   \n",
              "Education_Level                                              Graduate   \n",
              "Marital_Status                                                Married   \n",
              "Income_Category                                          $80K - $120K   \n",
              "Card_Category                                                    Blue   \n",
              "Months_on_book                                                     40   \n",
              "Total_Relationship_Count                                            6   \n",
              "Months_Inactive_12_mon                                              3   \n",
              "Contacts_Count_12_mon                                               4   \n",
              "Credit_Limit                                                  17925.0   \n",
              "Total_Revolving_Bal                                              1909   \n",
              "Avg_Open_To_Buy                                               16016.0   \n",
              "Total_Amt_Chng_Q4_Q1                                            0.712   \n",
              "Total_Trans_Amt                                                 17498   \n",
              "Total_Trans_Ct                                                    111   \n",
              "Total_Ct_Chng_Q4_Q1                                              0.82   \n",
              "Avg_Utilization_Ratio                                           0.106   \n",
              "Naive_Bayes_Classifier_Attrition_Flag_Card_Cate...           0.000516   \n",
              "Naive_Bayes_Classifier_Attrition_Flag_Card_Cate...            0.99948   \n",
              "\n",
              "                                                                10118  \\\n",
              "CLIENTNUM                                                   713755458   \n",
              "Attrition_Flag                                      Attrited Customer   \n",
              "Customer_Age                                                       50   \n",
              "Gender                                                              M   \n",
              "Dependent_count                                                     1   \n",
              "Education_Level                                               Unknown   \n",
              "Marital_Status                                                Unknown   \n",
              "Income_Category                                          $80K - $120K   \n",
              "Card_Category                                                    Blue   \n",
              "Months_on_book                                                     36   \n",
              "Total_Relationship_Count                                            6   \n",
              "Months_Inactive_12_mon                                              3   \n",
              "Contacts_Count_12_mon                                               4   \n",
              "Credit_Limit                                                   9959.0   \n",
              "Total_Revolving_Bal                                               952   \n",
              "Avg_Open_To_Buy                                                9007.0   \n",
              "Total_Amt_Chng_Q4_Q1                                            0.825   \n",
              "Total_Trans_Amt                                                 10310   \n",
              "Total_Trans_Ct                                                     63   \n",
              "Total_Ct_Chng_Q4_Q1                                               1.1   \n",
              "Avg_Utilization_Ratio                                           0.096   \n",
              "Naive_Bayes_Classifier_Attrition_Flag_Card_Cate...            0.99813   \n",
              "Naive_Bayes_Classifier_Attrition_Flag_Card_Cate...           0.001874   \n",
              "\n",
              "                                                                10119  \\\n",
              "CLIENTNUM                                                   716893683   \n",
              "Attrition_Flag                                      Attrited Customer   \n",
              "Customer_Age                                                       55   \n",
              "Gender                                                              F   \n",
              "Dependent_count                                                     3   \n",
              "Education_Level                                            Uneducated   \n",
              "Marital_Status                                                 Single   \n",
              "Income_Category                                               Unknown   \n",
              "Card_Category                                                    Blue   \n",
              "Months_on_book                                                     47   \n",
              "Total_Relationship_Count                                            4   \n",
              "Months_Inactive_12_mon                                              3   \n",
              "Contacts_Count_12_mon                                               3   \n",
              "Credit_Limit                                                  14657.0   \n",
              "Total_Revolving_Bal                                              2517   \n",
              "Avg_Open_To_Buy                                               12140.0   \n",
              "Total_Amt_Chng_Q4_Q1                                            0.166   \n",
              "Total_Trans_Amt                                                  6009   \n",
              "Total_Trans_Ct                                                     53   \n",
              "Total_Ct_Chng_Q4_Q1                                             0.514   \n",
              "Avg_Utilization_Ratio                                           0.172   \n",
              "Naive_Bayes_Classifier_Attrition_Flag_Card_Cate...            0.99691   \n",
              "Naive_Bayes_Classifier_Attrition_Flag_Card_Cate...           0.003088   \n",
              "\n",
              "                                                                10120  \\\n",
              "CLIENTNUM                                                   710841183   \n",
              "Attrition_Flag                                      Existing Customer   \n",
              "Customer_Age                                                       54   \n",
              "Gender                                                              M   \n",
              "Dependent_count                                                     1   \n",
              "Education_Level                                           High School   \n",
              "Marital_Status                                                 Single   \n",
              "Income_Category                                           $60K - $80K   \n",
              "Card_Category                                                    Blue   \n",
              "Months_on_book                                                     34   \n",
              "Total_Relationship_Count                                            5   \n",
              "Months_Inactive_12_mon                                              2   \n",
              "Contacts_Count_12_mon                                               0   \n",
              "Credit_Limit                                                  13940.0   \n",
              "Total_Revolving_Bal                                              2109   \n",
              "Avg_Open_To_Buy                                               11831.0   \n",
              "Total_Amt_Chng_Q4_Q1                                             0.66   \n",
              "Total_Trans_Amt                                                 15577   \n",
              "Total_Trans_Ct                                                    114   \n",
              "Total_Ct_Chng_Q4_Q1                                             0.754   \n",
              "Avg_Utilization_Ratio                                           0.151   \n",
              "Naive_Bayes_Classifier_Attrition_Flag_Card_Cate...           0.000038   \n",
              "Naive_Bayes_Classifier_Attrition_Flag_Card_Cate...            0.99996   \n",
              "\n",
              "                                                                10121  \\\n",
              "CLIENTNUM                                                   713899383   \n",
              "Attrition_Flag                                      Existing Customer   \n",
              "Customer_Age                                                       56   \n",
              "Gender                                                              F   \n",
              "Dependent_count                                                     1   \n",
              "Education_Level                                              Graduate   \n",
              "Marital_Status                                                 Single   \n",
              "Income_Category                                        Less than $40K   \n",
              "Card_Category                                                    Blue   \n",
              "Months_on_book                                                     50   \n",
              "Total_Relationship_Count                                            4   \n",
              "Months_Inactive_12_mon                                              1   \n",
              "Contacts_Count_12_mon                                               4   \n",
              "Credit_Limit                                                   3688.0   \n",
              "Total_Revolving_Bal                                               606   \n",
              "Avg_Open_To_Buy                                                3082.0   \n",
              "Total_Amt_Chng_Q4_Q1                                             0.57   \n",
              "Total_Trans_Amt                                                 14596   \n",
              "Total_Trans_Ct                                                    120   \n",
              "Total_Ct_Chng_Q4_Q1                                             0.791   \n",
              "Avg_Utilization_Ratio                                           0.164   \n",
              "Naive_Bayes_Classifier_Attrition_Flag_Card_Cate...           0.000148   \n",
              "Naive_Bayes_Classifier_Attrition_Flag_Card_Cate...            0.99985   \n",
              "\n",
              "                                                                10122  \\\n",
              "CLIENTNUM                                                   772366833   \n",
              "Attrition_Flag                                      Existing Customer   \n",
              "Customer_Age                                                       50   \n",
              "Gender                                                              M   \n",
              "Dependent_count                                                     2   \n",
              "Education_Level                                              Graduate   \n",
              "Marital_Status                                                 Single   \n",
              "Income_Category                                           $40K - $60K   \n",
              "Card_Category                                                    Blue   \n",
              "Months_on_book                                                     40   \n",
              "Total_Relationship_Count                                            3   \n",
              "Months_Inactive_12_mon                                              2   \n",
              "Contacts_Count_12_mon                                               3   \n",
              "Credit_Limit                                                   4003.0   \n",
              "Total_Revolving_Bal                                              1851   \n",
              "Avg_Open_To_Buy                                                2152.0   \n",
              "Total_Amt_Chng_Q4_Q1                                            0.703   \n",
              "Total_Trans_Amt                                                 15476   \n",
              "Total_Trans_Ct                                                    117   \n",
              "Total_Ct_Chng_Q4_Q1                                             0.857   \n",
              "Avg_Utilization_Ratio                                           0.462   \n",
              "Naive_Bayes_Classifier_Attrition_Flag_Card_Cate...           0.000191   \n",
              "Naive_Bayes_Classifier_Attrition_Flag_Card_Cate...            0.99981   \n",
              "\n",
              "                                                                10123  \\\n",
              "CLIENTNUM                                                   710638233   \n",
              "Attrition_Flag                                      Attrited Customer   \n",
              "Customer_Age                                                       41   \n",
              "Gender                                                              M   \n",
              "Dependent_count                                                     2   \n",
              "Education_Level                                               Unknown   \n",
              "Marital_Status                                               Divorced   \n",
              "Income_Category                                           $40K - $60K   \n",
              "Card_Category                                                    Blue   \n",
              "Months_on_book                                                     25   \n",
              "Total_Relationship_Count                                            4   \n",
              "Months_Inactive_12_mon                                              2   \n",
              "Contacts_Count_12_mon                                               3   \n",
              "Credit_Limit                                                   4277.0   \n",
              "Total_Revolving_Bal                                              2186   \n",
              "Avg_Open_To_Buy                                                2091.0   \n",
              "Total_Amt_Chng_Q4_Q1                                            0.804   \n",
              "Total_Trans_Amt                                                  8764   \n",
              "Total_Trans_Ct                                                     69   \n",
              "Total_Ct_Chng_Q4_Q1                                             0.683   \n",
              "Avg_Utilization_Ratio                                           0.511   \n",
              "Naive_Bayes_Classifier_Attrition_Flag_Card_Cate...            0.99527   \n",
              "Naive_Bayes_Classifier_Attrition_Flag_Card_Cate...           0.004729   \n",
              "\n",
              "                                                                10124  \\\n",
              "CLIENTNUM                                                   716506083   \n",
              "Attrition_Flag                                      Attrited Customer   \n",
              "Customer_Age                                                       44   \n",
              "Gender                                                              F   \n",
              "Dependent_count                                                     1   \n",
              "Education_Level                                           High School   \n",
              "Marital_Status                                                Married   \n",
              "Income_Category                                        Less than $40K   \n",
              "Card_Category                                                    Blue   \n",
              "Months_on_book                                                     36   \n",
              "Total_Relationship_Count                                            5   \n",
              "Months_Inactive_12_mon                                              3   \n",
              "Contacts_Count_12_mon                                               4   \n",
              "Credit_Limit                                                   5409.0   \n",
              "Total_Revolving_Bal                                                 0   \n",
              "Avg_Open_To_Buy                                                5409.0   \n",
              "Total_Amt_Chng_Q4_Q1                                            0.819   \n",
              "Total_Trans_Amt                                                 10291   \n",
              "Total_Trans_Ct                                                     60   \n",
              "Total_Ct_Chng_Q4_Q1                                             0.818   \n",
              "Avg_Utilization_Ratio                                             0.0   \n",
              "Naive_Bayes_Classifier_Attrition_Flag_Card_Cate...            0.99788   \n",
              "Naive_Bayes_Classifier_Attrition_Flag_Card_Cate...           0.002118   \n",
              "\n",
              "                                                                10125  \\\n",
              "CLIENTNUM                                                   717406983   \n",
              "Attrition_Flag                                      Attrited Customer   \n",
              "Customer_Age                                                       30   \n",
              "Gender                                                              M   \n",
              "Dependent_count                                                     2   \n",
              "Education_Level                                              Graduate   \n",
              "Marital_Status                                                Unknown   \n",
              "Income_Category                                           $40K - $60K   \n",
              "Card_Category                                                    Blue   \n",
              "Months_on_book                                                     36   \n",
              "Total_Relationship_Count                                            4   \n",
              "Months_Inactive_12_mon                                              3   \n",
              "Contacts_Count_12_mon                                               3   \n",
              "Credit_Limit                                                   5281.0   \n",
              "Total_Revolving_Bal                                                 0   \n",
              "Avg_Open_To_Buy                                                5281.0   \n",
              "Total_Amt_Chng_Q4_Q1                                            0.535   \n",
              "Total_Trans_Amt                                                  8395   \n",
              "Total_Trans_Ct                                                     62   \n",
              "Total_Ct_Chng_Q4_Q1                                             0.722   \n",
              "Avg_Utilization_Ratio                                             0.0   \n",
              "Naive_Bayes_Classifier_Attrition_Flag_Card_Cate...            0.99671   \n",
              "Naive_Bayes_Classifier_Attrition_Flag_Card_Cate...           0.003294   \n",
              "\n",
              "                                                                10126  \n",
              "CLIENTNUM                                                   714337233  \n",
              "Attrition_Flag                                      Attrited Customer  \n",
              "Customer_Age                                                       43  \n",
              "Gender                                                              F  \n",
              "Dependent_count                                                     2  \n",
              "Education_Level                                              Graduate  \n",
              "Marital_Status                                                Married  \n",
              "Income_Category                                        Less than $40K  \n",
              "Card_Category                                                  Silver  \n",
              "Months_on_book                                                     25  \n",
              "Total_Relationship_Count                                            6  \n",
              "Months_Inactive_12_mon                                              2  \n",
              "Contacts_Count_12_mon                                               4  \n",
              "Credit_Limit                                                  10388.0  \n",
              "Total_Revolving_Bal                                              1961  \n",
              "Avg_Open_To_Buy                                                8427.0  \n",
              "Total_Amt_Chng_Q4_Q1                                            0.703  \n",
              "Total_Trans_Amt                                                 10294  \n",
              "Total_Trans_Ct                                                     61  \n",
              "Total_Ct_Chng_Q4_Q1                                             0.649  \n",
              "Avg_Utilization_Ratio                                           0.189  \n",
              "Naive_Bayes_Classifier_Attrition_Flag_Card_Cate...            0.99662  \n",
              "Naive_Bayes_Classifier_Attrition_Flag_Card_Cate...           0.003377  \n",
              "\n",
              "[23 rows x 10127 columns]"
            ],
            "text/html": [
              "\n",
              "  <div id=\"df-2e03e8cc-9020-4758-b2c1-0f82cd45dcdf\">\n",
              "    <div class=\"colab-df-container\">\n",
              "      <div>\n",
              "<style scoped>\n",
              "    .dataframe tbody tr th:only-of-type {\n",
              "        vertical-align: middle;\n",
              "    }\n",
              "\n",
              "    .dataframe tbody tr th {\n",
              "        vertical-align: top;\n",
              "    }\n",
              "\n",
              "    .dataframe thead th {\n",
              "        text-align: right;\n",
              "    }\n",
              "</style>\n",
              "<table border=\"1\" class=\"dataframe\">\n",
              "  <thead>\n",
              "    <tr style=\"text-align: right;\">\n",
              "      <th></th>\n",
              "      <th>0</th>\n",
              "      <th>1</th>\n",
              "      <th>2</th>\n",
              "      <th>3</th>\n",
              "      <th>4</th>\n",
              "      <th>5</th>\n",
              "      <th>6</th>\n",
              "      <th>7</th>\n",
              "      <th>8</th>\n",
              "      <th>9</th>\n",
              "      <th>...</th>\n",
              "      <th>10117</th>\n",
              "      <th>10118</th>\n",
              "      <th>10119</th>\n",
              "      <th>10120</th>\n",
              "      <th>10121</th>\n",
              "      <th>10122</th>\n",
              "      <th>10123</th>\n",
              "      <th>10124</th>\n",
              "      <th>10125</th>\n",
              "      <th>10126</th>\n",
              "    </tr>\n",
              "  </thead>\n",
              "  <tbody>\n",
              "    <tr>\n",
              "      <th>CLIENTNUM</th>\n",
              "      <td>768805383</td>\n",
              "      <td>818770008</td>\n",
              "      <td>713982108</td>\n",
              "      <td>769911858</td>\n",
              "      <td>709106358</td>\n",
              "      <td>713061558</td>\n",
              "      <td>810347208</td>\n",
              "      <td>818906208</td>\n",
              "      <td>710930508</td>\n",
              "      <td>719661558</td>\n",
              "      <td>...</td>\n",
              "      <td>712503408</td>\n",
              "      <td>713755458</td>\n",
              "      <td>716893683</td>\n",
              "      <td>710841183</td>\n",
              "      <td>713899383</td>\n",
              "      <td>772366833</td>\n",
              "      <td>710638233</td>\n",
              "      <td>716506083</td>\n",
              "      <td>717406983</td>\n",
              "      <td>714337233</td>\n",
              "    </tr>\n",
              "    <tr>\n",
              "      <th>Attrition_Flag</th>\n",
              "      <td>Existing Customer</td>\n",
              "      <td>Existing Customer</td>\n",
              "      <td>Existing Customer</td>\n",
              "      <td>Existing Customer</td>\n",
              "      <td>Existing Customer</td>\n",
              "      <td>Existing Customer</td>\n",
              "      <td>Existing Customer</td>\n",
              "      <td>Existing Customer</td>\n",
              "      <td>Existing Customer</td>\n",
              "      <td>Existing Customer</td>\n",
              "      <td>...</td>\n",
              "      <td>Existing Customer</td>\n",
              "      <td>Attrited Customer</td>\n",
              "      <td>Attrited Customer</td>\n",
              "      <td>Existing Customer</td>\n",
              "      <td>Existing Customer</td>\n",
              "      <td>Existing Customer</td>\n",
              "      <td>Attrited Customer</td>\n",
              "      <td>Attrited Customer</td>\n",
              "      <td>Attrited Customer</td>\n",
              "      <td>Attrited Customer</td>\n",
              "    </tr>\n",
              "    <tr>\n",
              "      <th>Customer_Age</th>\n",
              "      <td>45</td>\n",
              "      <td>49</td>\n",
              "      <td>51</td>\n",
              "      <td>40</td>\n",
              "      <td>40</td>\n",
              "      <td>44</td>\n",
              "      <td>51</td>\n",
              "      <td>32</td>\n",
              "      <td>37</td>\n",
              "      <td>48</td>\n",
              "      <td>...</td>\n",
              "      <td>57</td>\n",
              "      <td>50</td>\n",
              "      <td>55</td>\n",
              "      <td>54</td>\n",
              "      <td>56</td>\n",
              "      <td>50</td>\n",
              "      <td>41</td>\n",
              "      <td>44</td>\n",
              "      <td>30</td>\n",
              "      <td>43</td>\n",
              "    </tr>\n",
              "    <tr>\n",
              "      <th>Gender</th>\n",
              "      <td>M</td>\n",
              "      <td>F</td>\n",
              "      <td>M</td>\n",
              "      <td>F</td>\n",
              "      <td>M</td>\n",
              "      <td>M</td>\n",
              "      <td>M</td>\n",
              "      <td>M</td>\n",
              "      <td>M</td>\n",
              "      <td>M</td>\n",
              "      <td>...</td>\n",
              "      <td>M</td>\n",
              "      <td>M</td>\n",
              "      <td>F</td>\n",
              "      <td>M</td>\n",
              "      <td>F</td>\n",
              "      <td>M</td>\n",
              "      <td>M</td>\n",
              "      <td>F</td>\n",
              "      <td>M</td>\n",
              "      <td>F</td>\n",
              "    </tr>\n",
              "    <tr>\n",
              "      <th>Dependent_count</th>\n",
              "      <td>3</td>\n",
              "      <td>5</td>\n",
              "      <td>3</td>\n",
              "      <td>4</td>\n",
              "      <td>3</td>\n",
              "      <td>2</td>\n",
              "      <td>4</td>\n",
              "      <td>0</td>\n",
              "      <td>3</td>\n",
              "      <td>2</td>\n",
              "      <td>...</td>\n",
              "      <td>2</td>\n",
              "      <td>1</td>\n",
              "      <td>3</td>\n",
              "      <td>1</td>\n",
              "      <td>1</td>\n",
              "      <td>2</td>\n",
              "      <td>2</td>\n",
              "      <td>1</td>\n",
              "      <td>2</td>\n",
              "      <td>2</td>\n",
              "    </tr>\n",
              "    <tr>\n",
              "      <th>Education_Level</th>\n",
              "      <td>High School</td>\n",
              "      <td>Graduate</td>\n",
              "      <td>Graduate</td>\n",
              "      <td>High School</td>\n",
              "      <td>Uneducated</td>\n",
              "      <td>Graduate</td>\n",
              "      <td>Unknown</td>\n",
              "      <td>High School</td>\n",
              "      <td>Uneducated</td>\n",
              "      <td>Graduate</td>\n",
              "      <td>...</td>\n",
              "      <td>Graduate</td>\n",
              "      <td>Unknown</td>\n",
              "      <td>Uneducated</td>\n",
              "      <td>High School</td>\n",
              "      <td>Graduate</td>\n",
              "      <td>Graduate</td>\n",
              "      <td>Unknown</td>\n",
              "      <td>High School</td>\n",
              "      <td>Graduate</td>\n",
              "      <td>Graduate</td>\n",
              "    </tr>\n",
              "    <tr>\n",
              "      <th>Marital_Status</th>\n",
              "      <td>Married</td>\n",
              "      <td>Single</td>\n",
              "      <td>Married</td>\n",
              "      <td>Unknown</td>\n",
              "      <td>Married</td>\n",
              "      <td>Married</td>\n",
              "      <td>Married</td>\n",
              "      <td>Unknown</td>\n",
              "      <td>Single</td>\n",
              "      <td>Single</td>\n",
              "      <td>...</td>\n",
              "      <td>Married</td>\n",
              "      <td>Unknown</td>\n",
              "      <td>Single</td>\n",
              "      <td>Single</td>\n",
              "      <td>Single</td>\n",
              "      <td>Single</td>\n",
              "      <td>Divorced</td>\n",
              "      <td>Married</td>\n",
              "      <td>Unknown</td>\n",
              "      <td>Married</td>\n",
              "    </tr>\n",
              "    <tr>\n",
              "      <th>Income_Category</th>\n",
              "      <td>$60K - $80K</td>\n",
              "      <td>Less than $40K</td>\n",
              "      <td>$80K - $120K</td>\n",
              "      <td>Less than $40K</td>\n",
              "      <td>$60K - $80K</td>\n",
              "      <td>$40K - $60K</td>\n",
              "      <td>$120K +</td>\n",
              "      <td>$60K - $80K</td>\n",
              "      <td>$60K - $80K</td>\n",
              "      <td>$80K - $120K</td>\n",
              "      <td>...</td>\n",
              "      <td>$80K - $120K</td>\n",
              "      <td>$80K - $120K</td>\n",
              "      <td>Unknown</td>\n",
              "      <td>$60K - $80K</td>\n",
              "      <td>Less than $40K</td>\n",
              "      <td>$40K - $60K</td>\n",
              "      <td>$40K - $60K</td>\n",
              "      <td>Less than $40K</td>\n",
              "      <td>$40K - $60K</td>\n",
              "      <td>Less than $40K</td>\n",
              "    </tr>\n",
              "    <tr>\n",
              "      <th>Card_Category</th>\n",
              "      <td>Blue</td>\n",
              "      <td>Blue</td>\n",
              "      <td>Blue</td>\n",
              "      <td>Blue</td>\n",
              "      <td>Blue</td>\n",
              "      <td>Blue</td>\n",
              "      <td>Gold</td>\n",
              "      <td>Silver</td>\n",
              "      <td>Blue</td>\n",
              "      <td>Blue</td>\n",
              "      <td>...</td>\n",
              "      <td>Blue</td>\n",
              "      <td>Blue</td>\n",
              "      <td>Blue</td>\n",
              "      <td>Blue</td>\n",
              "      <td>Blue</td>\n",
              "      <td>Blue</td>\n",
              "      <td>Blue</td>\n",
              "      <td>Blue</td>\n",
              "      <td>Blue</td>\n",
              "      <td>Silver</td>\n",
              "    </tr>\n",
              "    <tr>\n",
              "      <th>Months_on_book</th>\n",
              "      <td>39</td>\n",
              "      <td>44</td>\n",
              "      <td>36</td>\n",
              "      <td>34</td>\n",
              "      <td>21</td>\n",
              "      <td>36</td>\n",
              "      <td>46</td>\n",
              "      <td>27</td>\n",
              "      <td>36</td>\n",
              "      <td>36</td>\n",
              "      <td>...</td>\n",
              "      <td>40</td>\n",
              "      <td>36</td>\n",
              "      <td>47</td>\n",
              "      <td>34</td>\n",
              "      <td>50</td>\n",
              "      <td>40</td>\n",
              "      <td>25</td>\n",
              "      <td>36</td>\n",
              "      <td>36</td>\n",
              "      <td>25</td>\n",
              "    </tr>\n",
              "    <tr>\n",
              "      <th>Total_Relationship_Count</th>\n",
              "      <td>5</td>\n",
              "      <td>6</td>\n",
              "      <td>4</td>\n",
              "      <td>3</td>\n",
              "      <td>5</td>\n",
              "      <td>3</td>\n",
              "      <td>6</td>\n",
              "      <td>2</td>\n",
              "      <td>5</td>\n",
              "      <td>6</td>\n",
              "      <td>...</td>\n",
              "      <td>6</td>\n",
              "      <td>6</td>\n",
              "      <td>4</td>\n",
              "      <td>5</td>\n",
              "      <td>4</td>\n",
              "      <td>3</td>\n",
              "      <td>4</td>\n",
              "      <td>5</td>\n",
              "      <td>4</td>\n",
              "      <td>6</td>\n",
              "    </tr>\n",
              "    <tr>\n",
              "      <th>Months_Inactive_12_mon</th>\n",
              "      <td>1</td>\n",
              "      <td>1</td>\n",
              "      <td>1</td>\n",
              "      <td>4</td>\n",
              "      <td>1</td>\n",
              "      <td>1</td>\n",
              "      <td>1</td>\n",
              "      <td>2</td>\n",
              "      <td>2</td>\n",
              "      <td>3</td>\n",
              "      <td>...</td>\n",
              "      <td>3</td>\n",
              "      <td>3</td>\n",
              "      <td>3</td>\n",
              "      <td>2</td>\n",
              "      <td>1</td>\n",
              "      <td>2</td>\n",
              "      <td>2</td>\n",
              "      <td>3</td>\n",
              "      <td>3</td>\n",
              "      <td>2</td>\n",
              "    </tr>\n",
              "    <tr>\n",
              "      <th>Contacts_Count_12_mon</th>\n",
              "      <td>3</td>\n",
              "      <td>2</td>\n",
              "      <td>0</td>\n",
              "      <td>1</td>\n",
              "      <td>0</td>\n",
              "      <td>2</td>\n",
              "      <td>3</td>\n",
              "      <td>2</td>\n",
              "      <td>0</td>\n",
              "      <td>3</td>\n",
              "      <td>...</td>\n",
              "      <td>4</td>\n",
              "      <td>4</td>\n",
              "      <td>3</td>\n",
              "      <td>0</td>\n",
              "      <td>4</td>\n",
              "      <td>3</td>\n",
              "      <td>3</td>\n",
              "      <td>4</td>\n",
              "      <td>3</td>\n",
              "      <td>4</td>\n",
              "    </tr>\n",
              "    <tr>\n",
              "      <th>Credit_Limit</th>\n",
              "      <td>12691.0</td>\n",
              "      <td>8256.0</td>\n",
              "      <td>3418.0</td>\n",
              "      <td>3313.0</td>\n",
              "      <td>4716.0</td>\n",
              "      <td>4010.0</td>\n",
              "      <td>34516.0</td>\n",
              "      <td>29081.0</td>\n",
              "      <td>22352.0</td>\n",
              "      <td>11656.0</td>\n",
              "      <td>...</td>\n",
              "      <td>17925.0</td>\n",
              "      <td>9959.0</td>\n",
              "      <td>14657.0</td>\n",
              "      <td>13940.0</td>\n",
              "      <td>3688.0</td>\n",
              "      <td>4003.0</td>\n",
              "      <td>4277.0</td>\n",
              "      <td>5409.0</td>\n",
              "      <td>5281.0</td>\n",
              "      <td>10388.0</td>\n",
              "    </tr>\n",
              "    <tr>\n",
              "      <th>Total_Revolving_Bal</th>\n",
              "      <td>777</td>\n",
              "      <td>864</td>\n",
              "      <td>0</td>\n",
              "      <td>2517</td>\n",
              "      <td>0</td>\n",
              "      <td>1247</td>\n",
              "      <td>2264</td>\n",
              "      <td>1396</td>\n",
              "      <td>2517</td>\n",
              "      <td>1677</td>\n",
              "      <td>...</td>\n",
              "      <td>1909</td>\n",
              "      <td>952</td>\n",
              "      <td>2517</td>\n",
              "      <td>2109</td>\n",
              "      <td>606</td>\n",
              "      <td>1851</td>\n",
              "      <td>2186</td>\n",
              "      <td>0</td>\n",
              "      <td>0</td>\n",
              "      <td>1961</td>\n",
              "    </tr>\n",
              "    <tr>\n",
              "      <th>Avg_Open_To_Buy</th>\n",
              "      <td>11914.0</td>\n",
              "      <td>7392.0</td>\n",
              "      <td>3418.0</td>\n",
              "      <td>796.0</td>\n",
              "      <td>4716.0</td>\n",
              "      <td>2763.0</td>\n",
              "      <td>32252.0</td>\n",
              "      <td>27685.0</td>\n",
              "      <td>19835.0</td>\n",
              "      <td>9979.0</td>\n",
              "      <td>...</td>\n",
              "      <td>16016.0</td>\n",
              "      <td>9007.0</td>\n",
              "      <td>12140.0</td>\n",
              "      <td>11831.0</td>\n",
              "      <td>3082.0</td>\n",
              "      <td>2152.0</td>\n",
              "      <td>2091.0</td>\n",
              "      <td>5409.0</td>\n",
              "      <td>5281.0</td>\n",
              "      <td>8427.0</td>\n",
              "    </tr>\n",
              "    <tr>\n",
              "      <th>Total_Amt_Chng_Q4_Q1</th>\n",
              "      <td>1.335</td>\n",
              "      <td>1.541</td>\n",
              "      <td>2.594</td>\n",
              "      <td>1.405</td>\n",
              "      <td>2.175</td>\n",
              "      <td>1.376</td>\n",
              "      <td>1.975</td>\n",
              "      <td>2.204</td>\n",
              "      <td>3.355</td>\n",
              "      <td>1.524</td>\n",
              "      <td>...</td>\n",
              "      <td>0.712</td>\n",
              "      <td>0.825</td>\n",
              "      <td>0.166</td>\n",
              "      <td>0.66</td>\n",
              "      <td>0.57</td>\n",
              "      <td>0.703</td>\n",
              "      <td>0.804</td>\n",
              "      <td>0.819</td>\n",
              "      <td>0.535</td>\n",
              "      <td>0.703</td>\n",
              "    </tr>\n",
              "    <tr>\n",
              "      <th>Total_Trans_Amt</th>\n",
              "      <td>1144</td>\n",
              "      <td>1291</td>\n",
              "      <td>1887</td>\n",
              "      <td>1171</td>\n",
              "      <td>816</td>\n",
              "      <td>1088</td>\n",
              "      <td>1330</td>\n",
              "      <td>1538</td>\n",
              "      <td>1350</td>\n",
              "      <td>1441</td>\n",
              "      <td>...</td>\n",
              "      <td>17498</td>\n",
              "      <td>10310</td>\n",
              "      <td>6009</td>\n",
              "      <td>15577</td>\n",
              "      <td>14596</td>\n",
              "      <td>15476</td>\n",
              "      <td>8764</td>\n",
              "      <td>10291</td>\n",
              "      <td>8395</td>\n",
              "      <td>10294</td>\n",
              "    </tr>\n",
              "    <tr>\n",
              "      <th>Total_Trans_Ct</th>\n",
              "      <td>42</td>\n",
              "      <td>33</td>\n",
              "      <td>20</td>\n",
              "      <td>20</td>\n",
              "      <td>28</td>\n",
              "      <td>24</td>\n",
              "      <td>31</td>\n",
              "      <td>36</td>\n",
              "      <td>24</td>\n",
              "      <td>32</td>\n",
              "      <td>...</td>\n",
              "      <td>111</td>\n",
              "      <td>63</td>\n",
              "      <td>53</td>\n",
              "      <td>114</td>\n",
              "      <td>120</td>\n",
              "      <td>117</td>\n",
              "      <td>69</td>\n",
              "      <td>60</td>\n",
              "      <td>62</td>\n",
              "      <td>61</td>\n",
              "    </tr>\n",
              "    <tr>\n",
              "      <th>Total_Ct_Chng_Q4_Q1</th>\n",
              "      <td>1.625</td>\n",
              "      <td>3.714</td>\n",
              "      <td>2.333</td>\n",
              "      <td>2.333</td>\n",
              "      <td>2.5</td>\n",
              "      <td>0.846</td>\n",
              "      <td>0.722</td>\n",
              "      <td>0.714</td>\n",
              "      <td>1.182</td>\n",
              "      <td>0.882</td>\n",
              "      <td>...</td>\n",
              "      <td>0.82</td>\n",
              "      <td>1.1</td>\n",
              "      <td>0.514</td>\n",
              "      <td>0.754</td>\n",
              "      <td>0.791</td>\n",
              "      <td>0.857</td>\n",
              "      <td>0.683</td>\n",
              "      <td>0.818</td>\n",
              "      <td>0.722</td>\n",
              "      <td>0.649</td>\n",
              "    </tr>\n",
              "    <tr>\n",
              "      <th>Avg_Utilization_Ratio</th>\n",
              "      <td>0.061</td>\n",
              "      <td>0.105</td>\n",
              "      <td>0.0</td>\n",
              "      <td>0.76</td>\n",
              "      <td>0.0</td>\n",
              "      <td>0.311</td>\n",
              "      <td>0.066</td>\n",
              "      <td>0.048</td>\n",
              "      <td>0.113</td>\n",
              "      <td>0.144</td>\n",
              "      <td>...</td>\n",
              "      <td>0.106</td>\n",
              "      <td>0.096</td>\n",
              "      <td>0.172</td>\n",
              "      <td>0.151</td>\n",
              "      <td>0.164</td>\n",
              "      <td>0.462</td>\n",
              "      <td>0.511</td>\n",
              "      <td>0.0</td>\n",
              "      <td>0.0</td>\n",
              "      <td>0.189</td>\n",
              "    </tr>\n",
              "    <tr>\n",
              "      <th>Naive_Bayes_Classifier_Attrition_Flag_Card_Category_Contacts_Count_12_mon_Dependent_count_Education_Level_Months_Inactive_12_mon_1</th>\n",
              "      <td>0.000093</td>\n",
              "      <td>0.000057</td>\n",
              "      <td>0.000021</td>\n",
              "      <td>0.000134</td>\n",
              "      <td>0.000022</td>\n",
              "      <td>0.000055</td>\n",
              "      <td>0.000123</td>\n",
              "      <td>0.000086</td>\n",
              "      <td>0.000045</td>\n",
              "      <td>0.000303</td>\n",
              "      <td>...</td>\n",
              "      <td>0.000516</td>\n",
              "      <td>0.99813</td>\n",
              "      <td>0.99691</td>\n",
              "      <td>0.000038</td>\n",
              "      <td>0.000148</td>\n",
              "      <td>0.000191</td>\n",
              "      <td>0.99527</td>\n",
              "      <td>0.99788</td>\n",
              "      <td>0.99671</td>\n",
              "      <td>0.99662</td>\n",
              "    </tr>\n",
              "    <tr>\n",
              "      <th>Naive_Bayes_Classifier_Attrition_Flag_Card_Category_Contacts_Count_12_mon_Dependent_count_Education_Level_Months_Inactive_12_mon_2</th>\n",
              "      <td>0.99991</td>\n",
              "      <td>0.99994</td>\n",
              "      <td>0.99998</td>\n",
              "      <td>0.99987</td>\n",
              "      <td>0.99998</td>\n",
              "      <td>0.99994</td>\n",
              "      <td>0.99988</td>\n",
              "      <td>0.99991</td>\n",
              "      <td>0.99996</td>\n",
              "      <td>0.9997</td>\n",
              "      <td>...</td>\n",
              "      <td>0.99948</td>\n",
              "      <td>0.001874</td>\n",
              "      <td>0.003088</td>\n",
              "      <td>0.99996</td>\n",
              "      <td>0.99985</td>\n",
              "      <td>0.99981</td>\n",
              "      <td>0.004729</td>\n",
              "      <td>0.002118</td>\n",
              "      <td>0.003294</td>\n",
              "      <td>0.003377</td>\n",
              "    </tr>\n",
              "  </tbody>\n",
              "</table>\n",
              "<p>23 rows × 10127 columns</p>\n",
              "</div>\n",
              "      <button class=\"colab-df-convert\" onclick=\"convertToInteractive('df-2e03e8cc-9020-4758-b2c1-0f82cd45dcdf')\"\n",
              "              title=\"Convert this dataframe to an interactive table.\"\n",
              "              style=\"display:none;\">\n",
              "        \n",
              "  <svg xmlns=\"http://www.w3.org/2000/svg\" height=\"24px\"viewBox=\"0 0 24 24\"\n",
              "       width=\"24px\">\n",
              "    <path d=\"M0 0h24v24H0V0z\" fill=\"none\"/>\n",
              "    <path d=\"M18.56 5.44l.94 2.06.94-2.06 2.06-.94-2.06-.94-.94-2.06-.94 2.06-2.06.94zm-11 1L8.5 8.5l.94-2.06 2.06-.94-2.06-.94L8.5 2.5l-.94 2.06-2.06.94zm10 10l.94 2.06.94-2.06 2.06-.94-2.06-.94-.94-2.06-.94 2.06-2.06.94z\"/><path d=\"M17.41 7.96l-1.37-1.37c-.4-.4-.92-.59-1.43-.59-.52 0-1.04.2-1.43.59L10.3 9.45l-7.72 7.72c-.78.78-.78 2.05 0 2.83L4 21.41c.39.39.9.59 1.41.59.51 0 1.02-.2 1.41-.59l7.78-7.78 2.81-2.81c.8-.78.8-2.07 0-2.86zM5.41 20L4 18.59l7.72-7.72 1.47 1.35L5.41 20z\"/>\n",
              "  </svg>\n",
              "      </button>\n",
              "      \n",
              "  <style>\n",
              "    .colab-df-container {\n",
              "      display:flex;\n",
              "      flex-wrap:wrap;\n",
              "      gap: 12px;\n",
              "    }\n",
              "\n",
              "    .colab-df-convert {\n",
              "      background-color: #E8F0FE;\n",
              "      border: none;\n",
              "      border-radius: 50%;\n",
              "      cursor: pointer;\n",
              "      display: none;\n",
              "      fill: #1967D2;\n",
              "      height: 32px;\n",
              "      padding: 0 0 0 0;\n",
              "      width: 32px;\n",
              "    }\n",
              "\n",
              "    .colab-df-convert:hover {\n",
              "      background-color: #E2EBFA;\n",
              "      box-shadow: 0px 1px 2px rgba(60, 64, 67, 0.3), 0px 1px 3px 1px rgba(60, 64, 67, 0.15);\n",
              "      fill: #174EA6;\n",
              "    }\n",
              "\n",
              "    [theme=dark] .colab-df-convert {\n",
              "      background-color: #3B4455;\n",
              "      fill: #D2E3FC;\n",
              "    }\n",
              "\n",
              "    [theme=dark] .colab-df-convert:hover {\n",
              "      background-color: #434B5C;\n",
              "      box-shadow: 0px 1px 3px 1px rgba(0, 0, 0, 0.15);\n",
              "      filter: drop-shadow(0px 1px 2px rgba(0, 0, 0, 0.3));\n",
              "      fill: #FFFFFF;\n",
              "    }\n",
              "  </style>\n",
              "\n",
              "      <script>\n",
              "        const buttonEl =\n",
              "          document.querySelector('#df-2e03e8cc-9020-4758-b2c1-0f82cd45dcdf button.colab-df-convert');\n",
              "        buttonEl.style.display =\n",
              "          google.colab.kernel.accessAllowed ? 'block' : 'none';\n",
              "\n",
              "        async function convertToInteractive(key) {\n",
              "          const element = document.querySelector('#df-2e03e8cc-9020-4758-b2c1-0f82cd45dcdf');\n",
              "          const dataTable =\n",
              "            await google.colab.kernel.invokeFunction('convertToInteractive',\n",
              "                                                     [key], {});\n",
              "          if (!dataTable) return;\n",
              "\n",
              "          const docLinkHtml = 'Like what you see? Visit the ' +\n",
              "            '<a target=\"_blank\" href=https://colab.research.google.com/notebooks/data_table.ipynb>data table notebook</a>'\n",
              "            + ' to learn more about interactive tables.';\n",
              "          element.innerHTML = '';\n",
              "          dataTable['output_type'] = 'display_data';\n",
              "          await google.colab.output.renderOutput(dataTable, element);\n",
              "          const docLink = document.createElement('div');\n",
              "          docLink.innerHTML = docLinkHtml;\n",
              "          element.appendChild(docLink);\n",
              "        }\n",
              "      </script>\n",
              "    </div>\n",
              "  </div>\n",
              "  "
            ]
          },
          "metadata": {},
          "execution_count": 2
        }
      ]
    },
    {
      "cell_type": "code",
      "source": [
        "Bank_Churners.info()\n"
      ],
      "metadata": {
        "id": "TrVDtv6ZSyZ_",
        "colab": {
          "base_uri": "https://localhost:8080/"
        },
        "outputId": "57cfdc5a-7bc4-4aa7-dbdc-b4e6d35ddc30"
      },
      "execution_count": 3,
      "outputs": [
        {
          "output_type": "stream",
          "name": "stdout",
          "text": [
            "<class 'pandas.core.frame.DataFrame'>\n",
            "RangeIndex: 10127 entries, 0 to 10126\n",
            "Data columns (total 23 columns):\n",
            " #   Column                                                                                                                              Non-Null Count  Dtype  \n",
            "---  ------                                                                                                                              --------------  -----  \n",
            " 0   CLIENTNUM                                                                                                                           10127 non-null  int64  \n",
            " 1   Attrition_Flag                                                                                                                      10127 non-null  object \n",
            " 2   Customer_Age                                                                                                                        10127 non-null  int64  \n",
            " 3   Gender                                                                                                                              10127 non-null  object \n",
            " 4   Dependent_count                                                                                                                     10127 non-null  int64  \n",
            " 5   Education_Level                                                                                                                     10127 non-null  object \n",
            " 6   Marital_Status                                                                                                                      10127 non-null  object \n",
            " 7   Income_Category                                                                                                                     10127 non-null  object \n",
            " 8   Card_Category                                                                                                                       10127 non-null  object \n",
            " 9   Months_on_book                                                                                                                      10127 non-null  int64  \n",
            " 10  Total_Relationship_Count                                                                                                            10127 non-null  int64  \n",
            " 11  Months_Inactive_12_mon                                                                                                              10127 non-null  int64  \n",
            " 12  Contacts_Count_12_mon                                                                                                               10127 non-null  int64  \n",
            " 13  Credit_Limit                                                                                                                        10127 non-null  float64\n",
            " 14  Total_Revolving_Bal                                                                                                                 10127 non-null  int64  \n",
            " 15  Avg_Open_To_Buy                                                                                                                     10127 non-null  float64\n",
            " 16  Total_Amt_Chng_Q4_Q1                                                                                                                10127 non-null  float64\n",
            " 17  Total_Trans_Amt                                                                                                                     10127 non-null  int64  \n",
            " 18  Total_Trans_Ct                                                                                                                      10127 non-null  int64  \n",
            " 19  Total_Ct_Chng_Q4_Q1                                                                                                                 10127 non-null  float64\n",
            " 20  Avg_Utilization_Ratio                                                                                                               10127 non-null  float64\n",
            " 21  Naive_Bayes_Classifier_Attrition_Flag_Card_Category_Contacts_Count_12_mon_Dependent_count_Education_Level_Months_Inactive_12_mon_1  10127 non-null  float64\n",
            " 22  Naive_Bayes_Classifier_Attrition_Flag_Card_Category_Contacts_Count_12_mon_Dependent_count_Education_Level_Months_Inactive_12_mon_2  10127 non-null  float64\n",
            "dtypes: float64(7), int64(10), object(6)\n",
            "memory usage: 1.8+ MB\n"
          ]
        }
      ]
    },
    {
      "cell_type": "code",
      "source": [
        "Bank_Churners.shape"
      ],
      "metadata": {
        "colab": {
          "base_uri": "https://localhost:8080/"
        },
        "id": "0mAfqkTHlT0Q",
        "outputId": "5b487bc7-5d76-4d0f-fba6-d9c90cdbbbe9"
      },
      "execution_count": 4,
      "outputs": [
        {
          "output_type": "execute_result",
          "data": {
            "text/plain": [
              "(10127, 23)"
            ]
          },
          "metadata": {},
          "execution_count": 4
        }
      ]
    },
    {
      "cell_type": "code",
      "source": [
        "Bank_Churners.columns.values"
      ],
      "metadata": {
        "colab": {
          "base_uri": "https://localhost:8080/"
        },
        "id": "mF9x3zvylZNF",
        "outputId": "df1fb282-c06d-4247-c729-e545d8804079"
      },
      "execution_count": 5,
      "outputs": [
        {
          "output_type": "execute_result",
          "data": {
            "text/plain": [
              "array(['CLIENTNUM', 'Attrition_Flag', 'Customer_Age', 'Gender',\n",
              "       'Dependent_count', 'Education_Level', 'Marital_Status',\n",
              "       'Income_Category', 'Card_Category', 'Months_on_book',\n",
              "       'Total_Relationship_Count', 'Months_Inactive_12_mon',\n",
              "       'Contacts_Count_12_mon', 'Credit_Limit', 'Total_Revolving_Bal',\n",
              "       'Avg_Open_To_Buy', 'Total_Amt_Chng_Q4_Q1', 'Total_Trans_Amt',\n",
              "       'Total_Trans_Ct', 'Total_Ct_Chng_Q4_Q1', 'Avg_Utilization_Ratio',\n",
              "       'Naive_Bayes_Classifier_Attrition_Flag_Card_Category_Contacts_Count_12_mon_Dependent_count_Education_Level_Months_Inactive_12_mon_1',\n",
              "       'Naive_Bayes_Classifier_Attrition_Flag_Card_Category_Contacts_Count_12_mon_Dependent_count_Education_Level_Months_Inactive_12_mon_2'],\n",
              "      dtype=object)"
            ]
          },
          "metadata": {},
          "execution_count": 5
        }
      ]
    },
    {
      "cell_type": "code",
      "source": [
        "Bank_Churners.dtypes"
      ],
      "metadata": {
        "colab": {
          "base_uri": "https://localhost:8080/"
        },
        "id": "bHs2RiUom7G7",
        "outputId": "28e11664-b98f-48e9-c25d-52e2c9ca0517"
      },
      "execution_count": 6,
      "outputs": [
        {
          "output_type": "execute_result",
          "data": {
            "text/plain": [
              "CLIENTNUM                                                                                                                               int64\n",
              "Attrition_Flag                                                                                                                         object\n",
              "Customer_Age                                                                                                                            int64\n",
              "Gender                                                                                                                                 object\n",
              "Dependent_count                                                                                                                         int64\n",
              "Education_Level                                                                                                                        object\n",
              "Marital_Status                                                                                                                         object\n",
              "Income_Category                                                                                                                        object\n",
              "Card_Category                                                                                                                          object\n",
              "Months_on_book                                                                                                                          int64\n",
              "Total_Relationship_Count                                                                                                                int64\n",
              "Months_Inactive_12_mon                                                                                                                  int64\n",
              "Contacts_Count_12_mon                                                                                                                   int64\n",
              "Credit_Limit                                                                                                                          float64\n",
              "Total_Revolving_Bal                                                                                                                     int64\n",
              "Avg_Open_To_Buy                                                                                                                       float64\n",
              "Total_Amt_Chng_Q4_Q1                                                                                                                  float64\n",
              "Total_Trans_Amt                                                                                                                         int64\n",
              "Total_Trans_Ct                                                                                                                          int64\n",
              "Total_Ct_Chng_Q4_Q1                                                                                                                   float64\n",
              "Avg_Utilization_Ratio                                                                                                                 float64\n",
              "Naive_Bayes_Classifier_Attrition_Flag_Card_Category_Contacts_Count_12_mon_Dependent_count_Education_Level_Months_Inactive_12_mon_1    float64\n",
              "Naive_Bayes_Classifier_Attrition_Flag_Card_Category_Contacts_Count_12_mon_Dependent_count_Education_Level_Months_Inactive_12_mon_2    float64\n",
              "dtype: object"
            ]
          },
          "metadata": {},
          "execution_count": 6
        }
      ]
    },
    {
      "cell_type": "code",
      "source": [
        "# #Deleting last 2 columns as suggested in Data description\n",
        "Bank_Churner=Bank_Churners.drop(['Naive_Bayes_Classifier_Attrition_Flag_Card_Category_Contacts_Count_12_mon_Dependent_count_Education_Level_Months_Inactive_12_mon_1', 'Naive_Bayes_Classifier_Attrition_Flag_Card_Category_Contacts_Count_12_mon_Dependent_count_Education_Level_Months_Inactive_12_mon_2'], axis = 1) "
      ],
      "metadata": {
        "id": "6w68V6MugGyo"
      },
      "execution_count": 7,
      "outputs": []
    },
    {
      "cell_type": "code",
      "source": [
        "Bank_Churner.head(10)"
      ],
      "metadata": {
        "colab": {
          "base_uri": "https://localhost:8080/",
          "height": 630
        },
        "id": "GlC77x1MnRBB",
        "outputId": "e778d986-74a4-48a5-8cae-45e8a17cec89"
      },
      "execution_count": 8,
      "outputs": [
        {
          "output_type": "execute_result",
          "data": {
            "text/plain": [
              "   CLIENTNUM     Attrition_Flag  Customer_Age Gender  Dependent_count  \\\n",
              "0  768805383  Existing Customer            45      M                3   \n",
              "1  818770008  Existing Customer            49      F                5   \n",
              "2  713982108  Existing Customer            51      M                3   \n",
              "3  769911858  Existing Customer            40      F                4   \n",
              "4  709106358  Existing Customer            40      M                3   \n",
              "5  713061558  Existing Customer            44      M                2   \n",
              "6  810347208  Existing Customer            51      M                4   \n",
              "7  818906208  Existing Customer            32      M                0   \n",
              "8  710930508  Existing Customer            37      M                3   \n",
              "9  719661558  Existing Customer            48      M                2   \n",
              "\n",
              "  Education_Level Marital_Status Income_Category Card_Category  \\\n",
              "0     High School        Married     $60K - $80K          Blue   \n",
              "1        Graduate         Single  Less than $40K          Blue   \n",
              "2        Graduate        Married    $80K - $120K          Blue   \n",
              "3     High School        Unknown  Less than $40K          Blue   \n",
              "4      Uneducated        Married     $60K - $80K          Blue   \n",
              "5        Graduate        Married     $40K - $60K          Blue   \n",
              "6         Unknown        Married         $120K +          Gold   \n",
              "7     High School        Unknown     $60K - $80K        Silver   \n",
              "8      Uneducated         Single     $60K - $80K          Blue   \n",
              "9        Graduate         Single    $80K - $120K          Blue   \n",
              "\n",
              "   Months_on_book  ...  Months_Inactive_12_mon  Contacts_Count_12_mon  \\\n",
              "0              39  ...                       1                      3   \n",
              "1              44  ...                       1                      2   \n",
              "2              36  ...                       1                      0   \n",
              "3              34  ...                       4                      1   \n",
              "4              21  ...                       1                      0   \n",
              "5              36  ...                       1                      2   \n",
              "6              46  ...                       1                      3   \n",
              "7              27  ...                       2                      2   \n",
              "8              36  ...                       2                      0   \n",
              "9              36  ...                       3                      3   \n",
              "\n",
              "   Credit_Limit  Total_Revolving_Bal  Avg_Open_To_Buy  Total_Amt_Chng_Q4_Q1  \\\n",
              "0       12691.0                  777          11914.0                 1.335   \n",
              "1        8256.0                  864           7392.0                 1.541   \n",
              "2        3418.0                    0           3418.0                 2.594   \n",
              "3        3313.0                 2517            796.0                 1.405   \n",
              "4        4716.0                    0           4716.0                 2.175   \n",
              "5        4010.0                 1247           2763.0                 1.376   \n",
              "6       34516.0                 2264          32252.0                 1.975   \n",
              "7       29081.0                 1396          27685.0                 2.204   \n",
              "8       22352.0                 2517          19835.0                 3.355   \n",
              "9       11656.0                 1677           9979.0                 1.524   \n",
              "\n",
              "   Total_Trans_Amt  Total_Trans_Ct  Total_Ct_Chng_Q4_Q1  Avg_Utilization_Ratio  \n",
              "0             1144              42                1.625                  0.061  \n",
              "1             1291              33                3.714                  0.105  \n",
              "2             1887              20                2.333                  0.000  \n",
              "3             1171              20                2.333                  0.760  \n",
              "4              816              28                2.500                  0.000  \n",
              "5             1088              24                0.846                  0.311  \n",
              "6             1330              31                0.722                  0.066  \n",
              "7             1538              36                0.714                  0.048  \n",
              "8             1350              24                1.182                  0.113  \n",
              "9             1441              32                0.882                  0.144  \n",
              "\n",
              "[10 rows x 21 columns]"
            ],
            "text/html": [
              "\n",
              "  <div id=\"df-d22750e7-eea0-4bca-95fd-5e2a65b2df7e\">\n",
              "    <div class=\"colab-df-container\">\n",
              "      <div>\n",
              "<style scoped>\n",
              "    .dataframe tbody tr th:only-of-type {\n",
              "        vertical-align: middle;\n",
              "    }\n",
              "\n",
              "    .dataframe tbody tr th {\n",
              "        vertical-align: top;\n",
              "    }\n",
              "\n",
              "    .dataframe thead th {\n",
              "        text-align: right;\n",
              "    }\n",
              "</style>\n",
              "<table border=\"1\" class=\"dataframe\">\n",
              "  <thead>\n",
              "    <tr style=\"text-align: right;\">\n",
              "      <th></th>\n",
              "      <th>CLIENTNUM</th>\n",
              "      <th>Attrition_Flag</th>\n",
              "      <th>Customer_Age</th>\n",
              "      <th>Gender</th>\n",
              "      <th>Dependent_count</th>\n",
              "      <th>Education_Level</th>\n",
              "      <th>Marital_Status</th>\n",
              "      <th>Income_Category</th>\n",
              "      <th>Card_Category</th>\n",
              "      <th>Months_on_book</th>\n",
              "      <th>...</th>\n",
              "      <th>Months_Inactive_12_mon</th>\n",
              "      <th>Contacts_Count_12_mon</th>\n",
              "      <th>Credit_Limit</th>\n",
              "      <th>Total_Revolving_Bal</th>\n",
              "      <th>Avg_Open_To_Buy</th>\n",
              "      <th>Total_Amt_Chng_Q4_Q1</th>\n",
              "      <th>Total_Trans_Amt</th>\n",
              "      <th>Total_Trans_Ct</th>\n",
              "      <th>Total_Ct_Chng_Q4_Q1</th>\n",
              "      <th>Avg_Utilization_Ratio</th>\n",
              "    </tr>\n",
              "  </thead>\n",
              "  <tbody>\n",
              "    <tr>\n",
              "      <th>0</th>\n",
              "      <td>768805383</td>\n",
              "      <td>Existing Customer</td>\n",
              "      <td>45</td>\n",
              "      <td>M</td>\n",
              "      <td>3</td>\n",
              "      <td>High School</td>\n",
              "      <td>Married</td>\n",
              "      <td>$60K - $80K</td>\n",
              "      <td>Blue</td>\n",
              "      <td>39</td>\n",
              "      <td>...</td>\n",
              "      <td>1</td>\n",
              "      <td>3</td>\n",
              "      <td>12691.0</td>\n",
              "      <td>777</td>\n",
              "      <td>11914.0</td>\n",
              "      <td>1.335</td>\n",
              "      <td>1144</td>\n",
              "      <td>42</td>\n",
              "      <td>1.625</td>\n",
              "      <td>0.061</td>\n",
              "    </tr>\n",
              "    <tr>\n",
              "      <th>1</th>\n",
              "      <td>818770008</td>\n",
              "      <td>Existing Customer</td>\n",
              "      <td>49</td>\n",
              "      <td>F</td>\n",
              "      <td>5</td>\n",
              "      <td>Graduate</td>\n",
              "      <td>Single</td>\n",
              "      <td>Less than $40K</td>\n",
              "      <td>Blue</td>\n",
              "      <td>44</td>\n",
              "      <td>...</td>\n",
              "      <td>1</td>\n",
              "      <td>2</td>\n",
              "      <td>8256.0</td>\n",
              "      <td>864</td>\n",
              "      <td>7392.0</td>\n",
              "      <td>1.541</td>\n",
              "      <td>1291</td>\n",
              "      <td>33</td>\n",
              "      <td>3.714</td>\n",
              "      <td>0.105</td>\n",
              "    </tr>\n",
              "    <tr>\n",
              "      <th>2</th>\n",
              "      <td>713982108</td>\n",
              "      <td>Existing Customer</td>\n",
              "      <td>51</td>\n",
              "      <td>M</td>\n",
              "      <td>3</td>\n",
              "      <td>Graduate</td>\n",
              "      <td>Married</td>\n",
              "      <td>$80K - $120K</td>\n",
              "      <td>Blue</td>\n",
              "      <td>36</td>\n",
              "      <td>...</td>\n",
              "      <td>1</td>\n",
              "      <td>0</td>\n",
              "      <td>3418.0</td>\n",
              "      <td>0</td>\n",
              "      <td>3418.0</td>\n",
              "      <td>2.594</td>\n",
              "      <td>1887</td>\n",
              "      <td>20</td>\n",
              "      <td>2.333</td>\n",
              "      <td>0.000</td>\n",
              "    </tr>\n",
              "    <tr>\n",
              "      <th>3</th>\n",
              "      <td>769911858</td>\n",
              "      <td>Existing Customer</td>\n",
              "      <td>40</td>\n",
              "      <td>F</td>\n",
              "      <td>4</td>\n",
              "      <td>High School</td>\n",
              "      <td>Unknown</td>\n",
              "      <td>Less than $40K</td>\n",
              "      <td>Blue</td>\n",
              "      <td>34</td>\n",
              "      <td>...</td>\n",
              "      <td>4</td>\n",
              "      <td>1</td>\n",
              "      <td>3313.0</td>\n",
              "      <td>2517</td>\n",
              "      <td>796.0</td>\n",
              "      <td>1.405</td>\n",
              "      <td>1171</td>\n",
              "      <td>20</td>\n",
              "      <td>2.333</td>\n",
              "      <td>0.760</td>\n",
              "    </tr>\n",
              "    <tr>\n",
              "      <th>4</th>\n",
              "      <td>709106358</td>\n",
              "      <td>Existing Customer</td>\n",
              "      <td>40</td>\n",
              "      <td>M</td>\n",
              "      <td>3</td>\n",
              "      <td>Uneducated</td>\n",
              "      <td>Married</td>\n",
              "      <td>$60K - $80K</td>\n",
              "      <td>Blue</td>\n",
              "      <td>21</td>\n",
              "      <td>...</td>\n",
              "      <td>1</td>\n",
              "      <td>0</td>\n",
              "      <td>4716.0</td>\n",
              "      <td>0</td>\n",
              "      <td>4716.0</td>\n",
              "      <td>2.175</td>\n",
              "      <td>816</td>\n",
              "      <td>28</td>\n",
              "      <td>2.500</td>\n",
              "      <td>0.000</td>\n",
              "    </tr>\n",
              "    <tr>\n",
              "      <th>5</th>\n",
              "      <td>713061558</td>\n",
              "      <td>Existing Customer</td>\n",
              "      <td>44</td>\n",
              "      <td>M</td>\n",
              "      <td>2</td>\n",
              "      <td>Graduate</td>\n",
              "      <td>Married</td>\n",
              "      <td>$40K - $60K</td>\n",
              "      <td>Blue</td>\n",
              "      <td>36</td>\n",
              "      <td>...</td>\n",
              "      <td>1</td>\n",
              "      <td>2</td>\n",
              "      <td>4010.0</td>\n",
              "      <td>1247</td>\n",
              "      <td>2763.0</td>\n",
              "      <td>1.376</td>\n",
              "      <td>1088</td>\n",
              "      <td>24</td>\n",
              "      <td>0.846</td>\n",
              "      <td>0.311</td>\n",
              "    </tr>\n",
              "    <tr>\n",
              "      <th>6</th>\n",
              "      <td>810347208</td>\n",
              "      <td>Existing Customer</td>\n",
              "      <td>51</td>\n",
              "      <td>M</td>\n",
              "      <td>4</td>\n",
              "      <td>Unknown</td>\n",
              "      <td>Married</td>\n",
              "      <td>$120K +</td>\n",
              "      <td>Gold</td>\n",
              "      <td>46</td>\n",
              "      <td>...</td>\n",
              "      <td>1</td>\n",
              "      <td>3</td>\n",
              "      <td>34516.0</td>\n",
              "      <td>2264</td>\n",
              "      <td>32252.0</td>\n",
              "      <td>1.975</td>\n",
              "      <td>1330</td>\n",
              "      <td>31</td>\n",
              "      <td>0.722</td>\n",
              "      <td>0.066</td>\n",
              "    </tr>\n",
              "    <tr>\n",
              "      <th>7</th>\n",
              "      <td>818906208</td>\n",
              "      <td>Existing Customer</td>\n",
              "      <td>32</td>\n",
              "      <td>M</td>\n",
              "      <td>0</td>\n",
              "      <td>High School</td>\n",
              "      <td>Unknown</td>\n",
              "      <td>$60K - $80K</td>\n",
              "      <td>Silver</td>\n",
              "      <td>27</td>\n",
              "      <td>...</td>\n",
              "      <td>2</td>\n",
              "      <td>2</td>\n",
              "      <td>29081.0</td>\n",
              "      <td>1396</td>\n",
              "      <td>27685.0</td>\n",
              "      <td>2.204</td>\n",
              "      <td>1538</td>\n",
              "      <td>36</td>\n",
              "      <td>0.714</td>\n",
              "      <td>0.048</td>\n",
              "    </tr>\n",
              "    <tr>\n",
              "      <th>8</th>\n",
              "      <td>710930508</td>\n",
              "      <td>Existing Customer</td>\n",
              "      <td>37</td>\n",
              "      <td>M</td>\n",
              "      <td>3</td>\n",
              "      <td>Uneducated</td>\n",
              "      <td>Single</td>\n",
              "      <td>$60K - $80K</td>\n",
              "      <td>Blue</td>\n",
              "      <td>36</td>\n",
              "      <td>...</td>\n",
              "      <td>2</td>\n",
              "      <td>0</td>\n",
              "      <td>22352.0</td>\n",
              "      <td>2517</td>\n",
              "      <td>19835.0</td>\n",
              "      <td>3.355</td>\n",
              "      <td>1350</td>\n",
              "      <td>24</td>\n",
              "      <td>1.182</td>\n",
              "      <td>0.113</td>\n",
              "    </tr>\n",
              "    <tr>\n",
              "      <th>9</th>\n",
              "      <td>719661558</td>\n",
              "      <td>Existing Customer</td>\n",
              "      <td>48</td>\n",
              "      <td>M</td>\n",
              "      <td>2</td>\n",
              "      <td>Graduate</td>\n",
              "      <td>Single</td>\n",
              "      <td>$80K - $120K</td>\n",
              "      <td>Blue</td>\n",
              "      <td>36</td>\n",
              "      <td>...</td>\n",
              "      <td>3</td>\n",
              "      <td>3</td>\n",
              "      <td>11656.0</td>\n",
              "      <td>1677</td>\n",
              "      <td>9979.0</td>\n",
              "      <td>1.524</td>\n",
              "      <td>1441</td>\n",
              "      <td>32</td>\n",
              "      <td>0.882</td>\n",
              "      <td>0.144</td>\n",
              "    </tr>\n",
              "  </tbody>\n",
              "</table>\n",
              "<p>10 rows × 21 columns</p>\n",
              "</div>\n",
              "      <button class=\"colab-df-convert\" onclick=\"convertToInteractive('df-d22750e7-eea0-4bca-95fd-5e2a65b2df7e')\"\n",
              "              title=\"Convert this dataframe to an interactive table.\"\n",
              "              style=\"display:none;\">\n",
              "        \n",
              "  <svg xmlns=\"http://www.w3.org/2000/svg\" height=\"24px\"viewBox=\"0 0 24 24\"\n",
              "       width=\"24px\">\n",
              "    <path d=\"M0 0h24v24H0V0z\" fill=\"none\"/>\n",
              "    <path d=\"M18.56 5.44l.94 2.06.94-2.06 2.06-.94-2.06-.94-.94-2.06-.94 2.06-2.06.94zm-11 1L8.5 8.5l.94-2.06 2.06-.94-2.06-.94L8.5 2.5l-.94 2.06-2.06.94zm10 10l.94 2.06.94-2.06 2.06-.94-2.06-.94-.94-2.06-.94 2.06-2.06.94z\"/><path d=\"M17.41 7.96l-1.37-1.37c-.4-.4-.92-.59-1.43-.59-.52 0-1.04.2-1.43.59L10.3 9.45l-7.72 7.72c-.78.78-.78 2.05 0 2.83L4 21.41c.39.39.9.59 1.41.59.51 0 1.02-.2 1.41-.59l7.78-7.78 2.81-2.81c.8-.78.8-2.07 0-2.86zM5.41 20L4 18.59l7.72-7.72 1.47 1.35L5.41 20z\"/>\n",
              "  </svg>\n",
              "      </button>\n",
              "      \n",
              "  <style>\n",
              "    .colab-df-container {\n",
              "      display:flex;\n",
              "      flex-wrap:wrap;\n",
              "      gap: 12px;\n",
              "    }\n",
              "\n",
              "    .colab-df-convert {\n",
              "      background-color: #E8F0FE;\n",
              "      border: none;\n",
              "      border-radius: 50%;\n",
              "      cursor: pointer;\n",
              "      display: none;\n",
              "      fill: #1967D2;\n",
              "      height: 32px;\n",
              "      padding: 0 0 0 0;\n",
              "      width: 32px;\n",
              "    }\n",
              "\n",
              "    .colab-df-convert:hover {\n",
              "      background-color: #E2EBFA;\n",
              "      box-shadow: 0px 1px 2px rgba(60, 64, 67, 0.3), 0px 1px 3px 1px rgba(60, 64, 67, 0.15);\n",
              "      fill: #174EA6;\n",
              "    }\n",
              "\n",
              "    [theme=dark] .colab-df-convert {\n",
              "      background-color: #3B4455;\n",
              "      fill: #D2E3FC;\n",
              "    }\n",
              "\n",
              "    [theme=dark] .colab-df-convert:hover {\n",
              "      background-color: #434B5C;\n",
              "      box-shadow: 0px 1px 3px 1px rgba(0, 0, 0, 0.15);\n",
              "      filter: drop-shadow(0px 1px 2px rgba(0, 0, 0, 0.3));\n",
              "      fill: #FFFFFF;\n",
              "    }\n",
              "  </style>\n",
              "\n",
              "      <script>\n",
              "        const buttonEl =\n",
              "          document.querySelector('#df-d22750e7-eea0-4bca-95fd-5e2a65b2df7e button.colab-df-convert');\n",
              "        buttonEl.style.display =\n",
              "          google.colab.kernel.accessAllowed ? 'block' : 'none';\n",
              "\n",
              "        async function convertToInteractive(key) {\n",
              "          const element = document.querySelector('#df-d22750e7-eea0-4bca-95fd-5e2a65b2df7e');\n",
              "          const dataTable =\n",
              "            await google.colab.kernel.invokeFunction('convertToInteractive',\n",
              "                                                     [key], {});\n",
              "          if (!dataTable) return;\n",
              "\n",
              "          const docLinkHtml = 'Like what you see? Visit the ' +\n",
              "            '<a target=\"_blank\" href=https://colab.research.google.com/notebooks/data_table.ipynb>data table notebook</a>'\n",
              "            + ' to learn more about interactive tables.';\n",
              "          element.innerHTML = '';\n",
              "          dataTable['output_type'] = 'display_data';\n",
              "          await google.colab.output.renderOutput(dataTable, element);\n",
              "          const docLink = document.createElement('div');\n",
              "          docLink.innerHTML = docLinkHtml;\n",
              "          element.appendChild(docLink);\n",
              "        }\n",
              "      </script>\n",
              "    </div>\n",
              "  </div>\n",
              "  "
            ]
          },
          "metadata": {},
          "execution_count": 8
        }
      ]
    },
    {
      "cell_type": "code",
      "source": [
        "print(Bank_Churners['Customer_Age'].value_counts())"
      ],
      "metadata": {
        "id": "fbxDm2fhS3YO",
        "colab": {
          "base_uri": "https://localhost:8080/"
        },
        "outputId": "03aad3eb-db6b-4ef0-bed6-a39019fcc05b"
      },
      "execution_count": null,
      "outputs": [
        {
          "output_type": "stream",
          "name": "stdout",
          "text": [
            "44    500\n",
            "49    495\n",
            "46    490\n",
            "45    486\n",
            "47    479\n",
            "43    473\n",
            "48    472\n",
            "50    452\n",
            "42    426\n",
            "51    398\n",
            "53    387\n",
            "41    379\n",
            "52    376\n",
            "40    361\n",
            "39    333\n",
            "54    307\n",
            "38    303\n",
            "55    279\n",
            "56    262\n",
            "37    260\n",
            "57    223\n",
            "36    221\n",
            "35    184\n",
            "59    157\n",
            "58    157\n",
            "34    146\n",
            "33    127\n",
            "60    127\n",
            "32    106\n",
            "65    101\n",
            "61     93\n",
            "62     93\n",
            "31     91\n",
            "26     78\n",
            "30     70\n",
            "63     65\n",
            "29     56\n",
            "64     43\n",
            "27     32\n",
            "28     29\n",
            "67      4\n",
            "66      2\n",
            "68      2\n",
            "70      1\n",
            "73      1\n",
            "Name: Customer_Age, dtype: int64\n"
          ]
        }
      ]
    },
    {
      "cell_type": "code",
      "source": [
        "#By exploring this target variable we have found that there are very less customer who have attrited. So we have to balance the dataset first.\n",
        "print(Bank_Churner['Attrition_Flag'].value_counts())\n",
        "sns.countplot(y=\"Attrition_Flag\",  data=Bank_Churner)"
      ],
      "metadata": {
        "id": "KNOWx9B_S3hO",
        "colab": {
          "base_uri": "https://localhost:8080/",
          "height": 352
        },
        "outputId": "07302f2b-a63e-4d0b-8b6a-a47aca2f2ac9"
      },
      "execution_count": null,
      "outputs": [
        {
          "output_type": "stream",
          "name": "stdout",
          "text": [
            "Existing Customer    8500\n",
            "Attrited Customer    1627\n",
            "Name: Attrition_Flag, dtype: int64\n"
          ]
        },
        {
          "output_type": "execute_result",
          "data": {
            "text/plain": [
              "<matplotlib.axes._subplots.AxesSubplot at 0x7f5ebdef3a90>"
            ]
          },
          "metadata": {},
          "execution_count": 5
        },
        {
          "output_type": "display_data",
          "data": {
            "text/plain": [
              "<Figure size 432x288 with 1 Axes>"
            ],
            "image/png": "[encoded data removed]"
          },
          "metadata": {
            "needs_background": "light"
          }
        }
      ]
    },
    {
      "cell_type": "code",
      "source": [
        "print(Bank_Churner['Gender'].value_counts())\n",
        "sns.countplot(y=\"Gender\",  data=Bank_Churner)"
      ],
      "metadata": {
        "colab": {
          "base_uri": "https://localhost:8080/",
          "height": 352
        },
        "id": "HCjcPj7wHsxB",
        "outputId": "2e8bce20-3abb-4f80-b811-4a93bff4c2f2"
      },
      "execution_count": null,
      "outputs": [
        {
          "output_type": "stream",
          "name": "stdout",
          "text": [
            "F    5358\n",
            "M    4769\n",
            "Name: Gender, dtype: int64\n"
          ]
        },
        {
          "output_type": "execute_result",
          "data": {
            "text/plain": [
              "<matplotlib.axes._subplots.AxesSubplot at 0x7f5ebe131050>"
            ]
          },
          "metadata": {},
          "execution_count": 7
        },
        {
          "output_type": "display_data",
          "data": {
            "text/plain": [
              "<Figure size 432x288 with 1 Axes>"
            ],
            "image/png": "[encoded data removed]"
          },
          "metadata": {
            "needs_background": "light"
          }
        }
      ]
    },
    {
      "cell_type": "code",
      "source": [
        "print(Bank_Churner['Education_Level'].value_counts())\n",
        "sns.countplot(y=\"Education_Level\",  data=Bank_Churner)"
      ],
      "metadata": {
        "colab": {
          "base_uri": "https://localhost:8080/",
          "height": 442
        },
        "id": "5QWncxdFIgcp",
        "outputId": "686aef82-2266-4f6d-a336-b8704dee8d13"
      },
      "execution_count": null,
      "outputs": [
        {
          "output_type": "stream",
          "name": "stdout",
          "text": [
            "Graduate         3128\n",
            "High School      2013\n",
            "Unknown          1519\n",
            "Uneducated       1487\n",
            "College          1013\n",
            "Post-Graduate     516\n",
            "Doctorate         451\n",
            "Name: Education_Level, dtype: int64\n"
          ]
        },
        {
          "output_type": "execute_result",
          "data": {
            "text/plain": [
              "<matplotlib.axes._subplots.AxesSubplot at 0x7f5ebe3c2f50>"
            ]
          },
          "metadata": {},
          "execution_count": 6
        },
        {
          "output_type": "display_data",
          "data": {
            "text/plain": [
              "<Figure size 432x288 with 1 Axes>"
            ],
            "image/png": "[encoded data removed]"
          },
          "metadata": {
            "needs_background": "light"
          }
        }
      ]
    },
    {
      "cell_type": "code",
      "source": [
        "print(Bank_Churner['Marital_Status'].value_counts())\n",
        "sns.countplot(y=\"Marital_Status\",  data=Bank_Churner)"
      ],
      "metadata": {
        "colab": {
          "base_uri": "https://localhost:8080/",
          "height": 388
        },
        "id": "MC4JSy_UI9NQ",
        "outputId": "102ad841-58c0-4203-b4d9-645eb1739128"
      },
      "execution_count": null,
      "outputs": [
        {
          "output_type": "stream",
          "name": "stdout",
          "text": [
            "Married     4687\n",
            "Single      3943\n",
            "Unknown      749\n",
            "Divorced     748\n",
            "Name: Marital_Status, dtype: int64\n"
          ]
        },
        {
          "output_type": "execute_result",
          "data": {
            "text/plain": [
              "<matplotlib.axes._subplots.AxesSubplot at 0x7f5ebe111190>"
            ]
          },
          "metadata": {},
          "execution_count": 8
        },
        {
          "output_type": "display_data",
          "data": {
            "text/plain": [
              "<Figure size 432x288 with 1 Axes>"
            ],
            "image/png": "[encoded data removed]"
          },
          "metadata": {
            "needs_background": "light"
          }
        }
      ]
    },
    {
      "cell_type": "code",
      "source": [
        "print(Bank_Churner['Education_Level'].value_counts())\n",
        "sns.countplot(y=\"Education_Level\",  data=Bank_Churner)"
      ],
      "metadata": {
        "colab": {
          "base_uri": "https://localhost:8080/",
          "height": 442
        },
        "id": "SCr1N-_YJDqs",
        "outputId": "3777f118-f2fa-40d5-f4d1-2c7a62df16cf"
      },
      "execution_count": null,
      "outputs": [
        {
          "output_type": "stream",
          "name": "stdout",
          "text": [
            "Graduate         3128\n",
            "High School      2013\n",
            "Unknown          1519\n",
            "Uneducated       1487\n",
            "College          1013\n",
            "Post-Graduate     516\n",
            "Doctorate         451\n",
            "Name: Education_Level, dtype: int64\n"
          ]
        },
        {
          "output_type": "execute_result",
          "data": {
            "text/plain": [
              "<matplotlib.axes._subplots.AxesSubplot at 0x7f5ebe075610>"
            ]
          },
          "metadata": {},
          "execution_count": 9
        },
        {
          "output_type": "display_data",
          "data": {
            "text/plain": [
              "<Figure size 432x288 with 1 Axes>"
            ],
            "image/png": "[encoded data removed]"
          },
          "metadata": {
            "needs_background": "light"
          }
        }
      ]
    },
    {
      "cell_type": "code",
      "source": [
        "print(Bank_Churner['Income_Category'].value_counts())\n",
        "sns.countplot(y=\"Income_Category\",  data=Bank_Churner)"
      ],
      "metadata": {
        "colab": {
          "base_uri": "https://localhost:8080/",
          "height": 424
        },
        "id": "Gk6n1UMsJEb1",
        "outputId": "cab7ee30-a060-4125-b4e0-72baa699a462"
      },
      "execution_count": null,
      "outputs": [
        {
          "output_type": "stream",
          "name": "stdout",
          "text": [
            "Less than $40K    3561\n",
            "$40K - $60K       1790\n",
            "$80K - $120K      1535\n",
            "$60K - $80K       1402\n",
            "Unknown           1112\n",
            "$120K +            727\n",
            "Name: Income_Category, dtype: int64\n"
          ]
        },
        {
          "output_type": "execute_result",
          "data": {
            "text/plain": [
              "<matplotlib.axes._subplots.AxesSubplot at 0x7f5ebdfef210>"
            ]
          },
          "metadata": {},
          "execution_count": 10
        },
        {
          "output_type": "display_data",
          "data": {
            "text/plain": [
              "<Figure size 432x288 with 1 Axes>"
            ],
            "image/png": "[encoded data removed]"
          },
          "metadata": {
            "needs_background": "light"
          }
        }
      ]
    },
    {
      "cell_type": "code",
      "source": [
        "print(Bank_Churner['Card_Category'].value_counts())\n",
        "sns.countplot(y=\"Card_Category\",  data=Bank_Churner)"
      ],
      "metadata": {
        "colab": {
          "base_uri": "https://localhost:8080/",
          "height": 388
        },
        "id": "_Z65iEpPJFHh",
        "outputId": "8de53667-de1c-4510-a0a8-9ecf8e58fc0f"
      },
      "execution_count": null,
      "outputs": [
        {
          "output_type": "stream",
          "name": "stdout",
          "text": [
            "Blue        9436\n",
            "Silver       555\n",
            "Gold         116\n",
            "Platinum      20\n",
            "Name: Card_Category, dtype: int64\n"
          ]
        },
        {
          "output_type": "execute_result",
          "data": {
            "text/plain": [
              "<matplotlib.axes._subplots.AxesSubplot at 0x7f5ebe197390>"
            ]
          },
          "metadata": {},
          "execution_count": 11
        },
        {
          "output_type": "display_data",
          "data": {
            "text/plain": [
              "<Figure size 432x288 with 1 Axes>"
            ],
            "image/png": "[encoded data removed]"
          },
          "metadata": {
            "needs_background": "light"
          }
        }
      ]
    },
    {
      "cell_type": "markdown",
      "source": [
        "# Data Cleaning and Data Preparation"
      ],
      "metadata": {
        "id": "uUnA9hIPS0yG"
      }
    },
    {
      "cell_type": "markdown",
      "source": [
        "## Data cleaning of the continous variables"
      ],
      "metadata": {
        "id": "1TyRTQSuMsNF"
      }
    },
    {
      "cell_type": "code",
      "source": [
        "plt.boxplot(Bank_Churner[\"Credit_Limit\"])"
      ],
      "metadata": {
        "colab": {
          "base_uri": "https://localhost:8080/",
          "height": 410
        },
        "id": "VjFUzRyFMrvB",
        "outputId": "83c427f6-58a4-4632-f6e9-71233dc72f12"
      },
      "execution_count": null,
      "outputs": [
        {
          "output_type": "execute_result",
          "data": {
            "text/plain": [
              "{'whiskers': [<matplotlib.lines.Line2D at 0x7f5ebdb09f10>,\n",
              "  <matplotlib.lines.Line2D at 0x7f5ebdb1a4d0>],\n",
              " 'caps': [<matplotlib.lines.Line2D at 0x7f5ebdb1aa10>,\n",
              "  <matplotlib.lines.Line2D at 0x7f5ebdb1af50>],\n",
              " 'boxes': [<matplotlib.lines.Line2D at 0x7f5ebdb17a10>],\n",
              " 'medians': [<matplotlib.lines.Line2D at 0x7f5ebdb23510>],\n",
              " 'fliers': [<matplotlib.lines.Line2D at 0x7f5ebdb23a50>],\n",
              " 'means': []}"
            ]
          },
          "metadata": {},
          "execution_count": 12
        },
        {
          "output_type": "display_data",
          "data": {
            "text/plain": [
              "<Figure size 432x288 with 1 Axes>"
            ],
            "image/png": "[encoded data removed]"
          },
          "metadata": {
            "needs_background": "light"
          }
        }
      ]
    },
    {
      "cell_type": "code",
      "source": [
        "util_percentiles=Bank_Churner['Credit_Limit'].quantile([0,0.05, 0.1, 0.25, 0.5,0.6,0.7,0.75,0.79,\n",
        " 0.80,0.85,0.86,.87,0.89, 0.9,0.91,0.92,0.93,0.94,0.95,0.96,0.97,0.975,0.98,0.99,1])\n",
        "round(util_percentiles,2)"
      ],
      "metadata": {
        "colab": {
          "base_uri": "https://localhost:8080/"
        },
        "id": "0a_q0FvEPdgW",
        "outputId": "464ce46a-b817-42ef-a942-d4c26ac5d566"
      },
      "execution_count": null,
      "outputs": [
        {
          "output_type": "execute_result",
          "data": {
            "text/plain": [
              "0.000     1438.30\n",
              "0.050     1438.51\n",
              "0.100     1762.00\n",
              "0.250     2555.00\n",
              "0.500     4549.00\n",
              "0.600     6279.20\n",
              "0.700     9078.40\n",
              "0.750    11067.50\n",
              "0.790    13064.70\n",
              "0.800    13562.60\n",
              "0.850    17455.40\n",
              "0.860    18354.16\n",
              "0.870    19314.88\n",
              "0.890    21754.28\n",
              "0.900    23400.20\n",
              "0.910    24614.54\n",
              "0.920    26680.40\n",
              "0.930    29044.84\n",
              "0.940    31688.36\n",
              "0.950    34516.00\n",
              "0.960    34516.00\n",
              "0.970    34516.00\n",
              "0.975    34516.00\n",
              "0.980    34516.00\n",
              "0.990    34516.00\n",
              "1.000    34516.00\n",
              "Name: Credit_Limit, dtype: float64"
            ]
          },
          "metadata": {},
          "execution_count": 57
        }
      ]
    },
    {
      "cell_type": "code",
      "source": [
        "median_util=Bank_Churner['Credit_Limit'].median()\n",
        "median_util\n"
      ],
      "metadata": {
        "colab": {
          "base_uri": "https://localhost:8080/"
        },
        "outputId": "9a555406-f76b-40a7-8418-44be9bb5da01",
        "id": "Efa0UOY1uLxR"
      },
      "execution_count": null,
      "outputs": [
        {
          "output_type": "execute_result",
          "data": {
            "text/plain": [
              "4549.0"
            ]
          },
          "metadata": {},
          "execution_count": 40
        }
      ]
    },
    {
      "cell_type": "code",
      "source": [
        "median_util=Bank_Churner['Credit_Limit'].mean()\n",
        "median_util"
      ],
      "metadata": {
        "colab": {
          "base_uri": "https://localhost:8080/"
        },
        "id": "OOHm5qGxuZSc",
        "outputId": "346389aa-6dc9-46fe-d0f7-d739544d2a05"
      },
      "execution_count": null,
      "outputs": [
        {
          "output_type": "execute_result",
          "data": {
            "text/plain": [
              "8631.953698034955"
            ]
          },
          "metadata": {},
          "execution_count": 41
        }
      ]
    },
    {
      "cell_type": "code",
      "source": [
        "# There is a significant difference between mean and median, so it is clearly evident that there are outliers. However, looking at the quantile\n",
        "# information it is not very easily detectable. This gives rise to 2 sceanarios. Either most of the customers has a maximum limit of 34516 or\n",
        "# most of the customers has spent amount equal to 34516. Taking the 2nd sceanario into consideration\n",
        " \n"
      ],
      "metadata": {
        "id": "dQm269J15xAh"
      },
      "execution_count": null,
      "outputs": []
    },
    {
      "cell_type": "code",
      "source": [
        "util_temp_bool_vect=Bank_Churner['Credit_Limit']>32000\n",
        "\n",
        "Bank_Churner['util_new']=Bank_Churner['Credit_Limit']\n",
        "Bank_Churner['util_new'][util_temp_bool_vect]=median_util \n"
      ],
      "metadata": {
        "colab": {
          "base_uri": "https://localhost:8080/"
        },
        "id": "PE6Ljm217wab",
        "outputId": "04abfe0e-3ff0-428a-d807-8ce6be05096d"
      },
      "execution_count": null,
      "outputs": [
        {
          "output_type": "stream",
          "name": "stderr",
          "text": [
            "/usr/local/lib/python3.7/dist-packages/ipykernel_launcher.py:4: SettingWithCopyWarning: \n",
            "A value is trying to be set on a copy of a slice from a DataFrame\n",
            "\n",
            "See the caveats in the documentation: https://pandas.pydata.org/pandas-docs/stable/user_guide/indexing.html#returning-a-view-versus-a-copy\n",
            "  after removing the cwd from sys.path.\n"
          ]
        }
      ]
    },
    {
      "cell_type": "code",
      "source": [
        "util_percentiles1=Bank_Churner['util_new'].quantile([0.05, 0.1, 0.25, 0.5, 0.75, 0.80, 0.9,0.91,0.95,0.96,0.97,0.975,0.98,0.99,1])\n",
        "round(util_percentiles1,2)"
      ],
      "metadata": {
        "colab": {
          "base_uri": "https://localhost:8080/"
        },
        "id": "MY5HPKy7753v",
        "outputId": "200cace4-c2e4-49ac-cd44-3ff3ef7b92a3"
      },
      "execution_count": null,
      "outputs": [
        {
          "output_type": "execute_result",
          "data": {
            "text/plain": [
              "0.050     1438.51\n",
              "0.100     1762.00\n",
              "0.250     2555.00\n",
              "0.500     4549.00\n",
              "0.750     8804.50\n",
              "0.800    10609.40\n",
              "0.900    16578.20\n",
              "0.910    17593.82\n",
              "0.950    21917.20\n",
              "0.960    23511.92\n",
              "0.970    24888.40\n",
              "0.975    25870.45\n",
              "0.980    26829.08\n",
              "0.990    29379.44\n",
              "1.000    31987.00\n",
              "Name: util_new, dtype: float64"
            ]
          },
          "metadata": {},
          "execution_count": 61
        }
      ]
    },
    {
      "cell_type": "code",
      "source": [
        "plt.boxplot(Bank_Churner[\"Total_Revolving_Bal\"])"
      ],
      "metadata": {
        "colab": {
          "base_uri": "https://localhost:8080/",
          "height": 410
        },
        "id": "fOWNBs_tHp1G",
        "outputId": "79c4543a-0aba-4700-8a76-3ef189741443"
      },
      "execution_count": null,
      "outputs": [
        {
          "output_type": "execute_result",
          "data": {
            "text/plain": [
              "{'whiskers': [<matplotlib.lines.Line2D at 0x7f5ebda51c50>,\n",
              "  <matplotlib.lines.Line2D at 0x7f5ebda561d0>],\n",
              " 'caps': [<matplotlib.lines.Line2D at 0x7f5ebda56710>,\n",
              "  <matplotlib.lines.Line2D at 0x7f5ebda56c50>],\n",
              " 'boxes': [<matplotlib.lines.Line2D at 0x7f5ebda51690>],\n",
              " 'medians': [<matplotlib.lines.Line2D at 0x7f5ebda5e210>],\n",
              " 'fliers': [<matplotlib.lines.Line2D at 0x7f5ebda5e750>],\n",
              " 'means': []}"
            ]
          },
          "metadata": {},
          "execution_count": 15
        },
        {
          "output_type": "display_data",
          "data": {
            "text/plain": [
              "<Figure size 432x288 with 1 Axes>"
            ],
            "image/png": "[encoded data removed]"
          },
          "metadata": {
            "needs_background": "light"
          }
        }
      ]
    },
    {
      "cell_type": "code",
      "source": [
        "util_percentiles=Bank_Churner['Total_Revolving_Bal'].quantile([0, 0.05, 0.1, 0.25,0.30,0.31, 0.5, 0.75, 0.80, 0.9,0.91,0.95,0.96,0.97,0.975,0.98,0.99,1])\n",
        "round(util_percentiles,2)"
      ],
      "metadata": {
        "colab": {
          "base_uri": "https://localhost:8080/"
        },
        "id": "H5U9kbhPIy2p",
        "outputId": "efcfa3a3-1324-42dc-9607-e7e536524d16"
      },
      "execution_count": null,
      "outputs": [
        {
          "output_type": "execute_result",
          "data": {
            "text/plain": [
              "0.000       0.00\n",
              "0.050       0.00\n",
              "0.100       0.00\n",
              "0.250     359.00\n",
              "0.300     748.00\n",
              "0.310     783.06\n",
              "0.500    1276.00\n",
              "0.750    1784.00\n",
              "0.800    1903.00\n",
              "0.900    2228.40\n",
              "0.910    2275.32\n",
              "0.950    2517.00\n",
              "0.960    2517.00\n",
              "0.970    2517.00\n",
              "0.975    2517.00\n",
              "0.980    2517.00\n",
              "0.990    2517.00\n",
              "1.000    2517.00\n",
              "Name: Total_Revolving_Bal, dtype: float64"
            ]
          },
          "metadata": {},
          "execution_count": 16
        }
      ]
    },
    {
      "cell_type": "code",
      "source": [
        "median_util=Bank_Churner['Total_Revolving_Bal'].median()\n",
        "median_util\n"
      ],
      "metadata": {
        "colab": {
          "base_uri": "https://localhost:8080/"
        },
        "id": "C-SC1l3NIzEs",
        "outputId": "b51f7626-03c3-4619-c24b-289d6d2085ae"
      },
      "execution_count": null,
      "outputs": [
        {
          "output_type": "execute_result",
          "data": {
            "text/plain": [
              "1276.0"
            ]
          },
          "metadata": {},
          "execution_count": 42
        }
      ]
    },
    {
      "cell_type": "code",
      "source": [
        "median_util=Bank_Churner['Total_Revolving_Bal'].mean()\n",
        "median_util\n"
      ],
      "metadata": {
        "colab": {
          "base_uri": "https://localhost:8080/"
        },
        "id": "OGlKUqmXvrBT",
        "outputId": "a345b42a-70b1-4eea-9abc-c63dfd3505d7"
      },
      "execution_count": null,
      "outputs": [
        {
          "output_type": "execute_result",
          "data": {
            "text/plain": [
              "1162.8140614199665"
            ]
          },
          "metadata": {},
          "execution_count": 43
        }
      ]
    },
    {
      "cell_type": "code",
      "source": [
        "plt.boxplot(Bank_Churner[\"Avg_Open_To_Buy\"])"
      ],
      "metadata": {
        "colab": {
          "base_uri": "https://localhost:8080/",
          "height": 410
        },
        "id": "0JhoLQBaIzPr",
        "outputId": "9edd1640-d310-4cad-fead-475776cf657d"
      },
      "execution_count": null,
      "outputs": [
        {
          "output_type": "execute_result",
          "data": {
            "text/plain": [
              "{'whiskers': [<matplotlib.lines.Line2D at 0x7f5ebd9c0990>,\n",
              "  <matplotlib.lines.Line2D at 0x7f5ebd9c0ed0>],\n",
              " 'caps': [<matplotlib.lines.Line2D at 0x7f5ebd9c5450>,\n",
              "  <matplotlib.lines.Line2D at 0x7f5ebd9c5990>],\n",
              " 'boxes': [<matplotlib.lines.Line2D at 0x7f5ebd9c03d0>],\n",
              " 'medians': [<matplotlib.lines.Line2D at 0x7f5ebd9c5f10>],\n",
              " 'fliers': [<matplotlib.lines.Line2D at 0x7f5ebd9cd490>],\n",
              " 'means': []}"
            ]
          },
          "metadata": {},
          "execution_count": 18
        },
        {
          "output_type": "display_data",
          "data": {
            "text/plain": [
              "<Figure size 432x288 with 1 Axes>"
            ],
            "image/png": "[encoded data removed]"
          },
          "metadata": {
            "needs_background": "light"
          }
        }
      ]
    },
    {
      "cell_type": "code",
      "source": [
        "# By using Quantile function, it was evident that there are 5% outliers.\n",
        "util_percentiles=Bank_Churner['Avg_Open_To_Buy'].quantile([0, 0.05, 0.1, 0.25,0.30,0.31, 0.5, 0.75, 0.80,0.85, 0.9,0.91,0.95,0.96,0.97,0.975,0.98,0.99,1])\n",
        "round(util_percentiles,2)"
      ],
      "metadata": {
        "colab": {
          "base_uri": "https://localhost:8080/"
        },
        "id": "EKnqQT8gIzVl",
        "outputId": "06b7a88a-b7ee-43cb-8623-1e5e62b4695c"
      },
      "execution_count": null,
      "outputs": [
        {
          "output_type": "execute_result",
          "data": {
            "text/plain": [
              "0.000        3.00\n",
              "0.050      480.30\n",
              "0.100      683.00\n",
              "0.250     1324.50\n",
              "0.300     1464.40\n",
              "0.310     1528.00\n",
              "0.500     3474.00\n",
              "0.750     9859.00\n",
              "0.800    12419.80\n",
              "0.850    16260.90\n",
              "0.900    21964.60\n",
              "0.910    23536.28\n",
              "0.950    32183.40\n",
              "0.960    32651.72\n",
              "0.970    33048.44\n",
              "0.975    33208.85\n",
              "0.980    33427.88\n",
              "0.990    34294.14\n",
              "1.000    34516.00\n",
              "Name: Avg_Open_To_Buy, dtype: float64"
            ]
          },
          "metadata": {},
          "execution_count": 19
        }
      ]
    },
    {
      "cell_type": "code",
      "source": [
        "median_util=Bank_Churner['Avg_Open_To_Buy'].median()\n",
        "median_util"
      ],
      "metadata": {
        "colab": {
          "base_uri": "https://localhost:8080/"
        },
        "id": "mmS19K_VhrPw",
        "outputId": "8fd586b1-cccb-4e0a-aaca-27baf88cef88"
      },
      "execution_count": null,
      "outputs": [
        {
          "output_type": "execute_result",
          "data": {
            "text/plain": [
              "3474.0"
            ]
          },
          "metadata": {},
          "execution_count": 20
        }
      ]
    },
    {
      "cell_type": "code",
      "source": [
        "median_util=Bank_Churner['Avg_Open_To_Buy'].mean()\n",
        "median_util"
      ],
      "metadata": {
        "colab": {
          "base_uri": "https://localhost:8080/"
        },
        "id": "_EjD_tYrxdlZ",
        "outputId": "32b82fb6-6ec8-4a19-e537-785b821b0643"
      },
      "execution_count": null,
      "outputs": [
        {
          "output_type": "execute_result",
          "data": {
            "text/plain": [
              "7469.139636614989"
            ]
          },
          "metadata": {},
          "execution_count": 55
        }
      ]
    },
    {
      "cell_type": "code",
      "source": [
        "# Replacing the 5% outliers with Median\n",
        "util_temp_bool_vect=Bank_Churner['Avg_Open_To_Buy']>25000\n",
        "\n",
        "Bank_Churner['util_new']=Bank_Churner['Avg_Open_To_Buy']\n",
        "Bank_Churner['util_new'][util_temp_bool_vect]=median_util "
      ],
      "metadata": {
        "colab": {
          "base_uri": "https://localhost:8080/"
        },
        "id": "6zbYvfPWgWhV",
        "outputId": "197236f3-4643-4f1b-b713-b23e497c67cd"
      },
      "execution_count": null,
      "outputs": [
        {
          "output_type": "stream",
          "name": "stderr",
          "text": [
            "/usr/local/lib/python3.7/dist-packages/ipykernel_launcher.py:5: SettingWithCopyWarning: \n",
            "A value is trying to be set on a copy of a slice from a DataFrame\n",
            "\n",
            "See the caveats in the documentation: https://pandas.pydata.org/pandas-docs/stable/user_guide/indexing.html#returning-a-view-versus-a-copy\n",
            "  \"\"\"\n"
          ]
        }
      ]
    },
    {
      "cell_type": "code",
      "source": [
        "util_percentiles1=Bank_Churner['util_new'].quantile([0.05, 0.1, 0.25, 0.5, 0.75, 0.80, 0.9,0.91,0.95,0.96,0.97,0.975,0.98,0.99,1])\n",
        "round(util_percentiles1,2)\n"
      ],
      "metadata": {
        "colab": {
          "base_uri": "https://localhost:8080/"
        },
        "id": "2k6qOcCjgvi5",
        "outputId": "9b882a61-2f52-42cc-ff6c-f11ddf4b83f1"
      },
      "execution_count": null,
      "outputs": [
        {
          "output_type": "execute_result",
          "data": {
            "text/plain": [
              "0.050      480.30\n",
              "0.100      683.00\n",
              "0.250     1324.50\n",
              "0.500     3474.00\n",
              "0.750     6981.00\n",
              "0.800     8529.00\n",
              "0.900    13713.40\n",
              "0.910    14479.32\n",
              "0.950    18039.10\n",
              "0.960    19089.88\n",
              "0.970    20474.44\n",
              "0.975    21153.10\n",
              "0.980    21746.72\n",
              "0.990    23152.58\n",
              "1.000    24973.00\n",
              "Name: util_new, dtype: float64"
            ]
          },
          "metadata": {},
          "execution_count": 22
        }
      ]
    },
    {
      "cell_type": "code",
      "source": [
        "plt.boxplot(Bank_Churner[\"util_new\"])"
      ],
      "metadata": {
        "colab": {
          "base_uri": "https://localhost:8080/",
          "height": 410
        },
        "id": "u-s76lzZjcLp",
        "outputId": "0aa4af42-b7f6-4e53-9c90-346c2ac58b00"
      },
      "execution_count": null,
      "outputs": [
        {
          "output_type": "execute_result",
          "data": {
            "text/plain": [
              "{'whiskers': [<matplotlib.lines.Line2D at 0x7f5ebd8feb10>,\n",
              "  <matplotlib.lines.Line2D at 0x7f5ebd905090>],\n",
              " 'caps': [<matplotlib.lines.Line2D at 0x7f5ebd9055d0>,\n",
              "  <matplotlib.lines.Line2D at 0x7f5ebd905b10>],\n",
              " 'boxes': [<matplotlib.lines.Line2D at 0x7f5ebd8fe510>],\n",
              " 'medians': [<matplotlib.lines.Line2D at 0x7f5ebd90b0d0>],\n",
              " 'fliers': [<matplotlib.lines.Line2D at 0x7f5ebd90b610>],\n",
              " 'means': []}"
            ]
          },
          "metadata": {},
          "execution_count": 23
        },
        {
          "output_type": "display_data",
          "data": {
            "text/plain": [
              "<Figure size 432x288 with 1 Axes>"
            ],
            "image/png": "[encoded data removed]"
          },
          "metadata": {
            "needs_background": "light"
          }
        }
      ]
    },
    {
      "cell_type": "code",
      "source": [
        "plt.boxplot(Bank_Churner[\"Total_Amt_Chng_Q4_Q1\"])"
      ],
      "metadata": {
        "colab": {
          "base_uri": "https://localhost:8080/",
          "height": 410
        },
        "id": "kpD1VQFCIzcm",
        "outputId": "1c55a631-a2c2-449f-dc1a-545969c0f38a"
      },
      "execution_count": null,
      "outputs": [
        {
          "output_type": "execute_result",
          "data": {
            "text/plain": [
              "{'whiskers': [<matplotlib.lines.Line2D at 0x7f5ebd86c490>,\n",
              "  <matplotlib.lines.Line2D at 0x7f5ebd86c9d0>],\n",
              " 'caps': [<matplotlib.lines.Line2D at 0x7f5ebd86cf10>,\n",
              "  <matplotlib.lines.Line2D at 0x7f5ebd874490>],\n",
              " 'boxes': [<matplotlib.lines.Line2D at 0x7f5ebd8e6ed0>],\n",
              " 'medians': [<matplotlib.lines.Line2D at 0x7f5ebd874a10>],\n",
              " 'fliers': [<matplotlib.lines.Line2D at 0x7f5ebd874f50>],\n",
              " 'means': []}"
            ]
          },
          "metadata": {},
          "execution_count": 24
        },
        {
          "output_type": "display_data",
          "data": {
            "text/plain": [
              "<Figure size 432x288 with 1 Axes>"
            ],
            "image/png": "[encoded data removed]"
          },
          "metadata": {
            "needs_background": "light"
          }
        }
      ]
    },
    {
      "cell_type": "code",
      "source": [
        "util_percentiles=Bank_Churner['Total_Amt_Chng_Q4_Q1'].quantile([0, 0.05, 0.1, 0.25,0.30,0.31, 0.5, 0.75, 0.80, 0.9,0.91,0.95,0.96,0.97,0.975,0.98,0.99,1])\n",
        "round(util_percentiles,2)"
      ],
      "metadata": {
        "colab": {
          "base_uri": "https://localhost:8080/"
        },
        "id": "EB3UvsPWIzfG",
        "outputId": "c2d34557-a4a3-4a12-b85d-fbe10b5d65c6"
      },
      "execution_count": null,
      "outputs": [
        {
          "output_type": "execute_result",
          "data": {
            "text/plain": [
              "0.000    0.00\n",
              "0.050    0.46\n",
              "0.100    0.53\n",
              "0.250    0.63\n",
              "0.300    0.66\n",
              "0.310    0.66\n",
              "0.500    0.74\n",
              "0.750    0.86\n",
              "0.800    0.89\n",
              "0.900    1.00\n",
              "0.910    1.01\n",
              "0.950    1.10\n",
              "0.960    1.16\n",
              "0.970    1.24\n",
              "0.975    1.28\n",
              "0.980    1.33\n",
              "0.990    1.51\n",
              "1.000    3.40\n",
              "Name: Total_Amt_Chng_Q4_Q1, dtype: float64"
            ]
          },
          "metadata": {},
          "execution_count": 25
        }
      ]
    },
    {
      "cell_type": "code",
      "source": [
        "median_util=Bank_Churner['Total_Amt_Chng_Q4_Q1'].median()\n",
        "median_util\n"
      ],
      "metadata": {
        "colab": {
          "base_uri": "https://localhost:8080/"
        },
        "id": "z1eulBb1Izht",
        "outputId": "4651caf5-b6a6-47c7-db64-d648e406471c"
      },
      "execution_count": null,
      "outputs": [
        {
          "output_type": "execute_result",
          "data": {
            "text/plain": [
              "0.736"
            ]
          },
          "metadata": {},
          "execution_count": 44
        }
      ]
    },
    {
      "cell_type": "code",
      "source": [
        "median_util=Bank_Churner['Total_Amt_Chng_Q4_Q1'].mean()\n",
        "median_util"
      ],
      "metadata": {
        "colab": {
          "base_uri": "https://localhost:8080/"
        },
        "id": "bqK9ksj_wBCm",
        "outputId": "38c7e981-411e-490f-c668-d581ecdad6ce"
      },
      "execution_count": null,
      "outputs": [
        {
          "output_type": "execute_result",
          "data": {
            "text/plain": [
              "0.7599406536980349"
            ]
          },
          "metadata": {},
          "execution_count": 45
        }
      ]
    },
    {
      "cell_type": "code",
      "source": [
        "plt.boxplot(Bank_Churner[\"Total_Trans_Amt\"])"
      ],
      "metadata": {
        "colab": {
          "base_uri": "https://localhost:8080/",
          "height": 410
        },
        "id": "BKJRX4K_Izl9",
        "outputId": "f5a39ea6-f301-46c0-c6ba-aa6c26929a2f"
      },
      "execution_count": null,
      "outputs": [
        {
          "output_type": "execute_result",
          "data": {
            "text/plain": [
              "{'whiskers': [<matplotlib.lines.Line2D at 0x7f5ebd862f10>,\n",
              "  <matplotlib.lines.Line2D at 0x7f5ebd866490>],\n",
              " 'caps': [<matplotlib.lines.Line2D at 0x7f5ebd8669d0>,\n",
              "  <matplotlib.lines.Line2D at 0x7f5ebd866f10>],\n",
              " 'boxes': [<matplotlib.lines.Line2D at 0x7f5ebd862950>],\n",
              " 'medians': [<matplotlib.lines.Line2D at 0x7f5ebd7ed4d0>],\n",
              " 'fliers': [<matplotlib.lines.Line2D at 0x7f5ebd7eda10>],\n",
              " 'means': []}"
            ]
          },
          "metadata": {},
          "execution_count": 27
        },
        {
          "output_type": "display_data",
          "data": {
            "text/plain": [
              "<Figure size 432x288 with 1 Axes>"
            ],
            "image/png": "[encoded data removed]"
          },
          "metadata": {
            "needs_background": "light"
          }
        }
      ]
    },
    {
      "cell_type": "code",
      "source": [
        "util_percentiles=Bank_Churner['Total_Trans_Amt'].quantile([0, 0.05, 0.1, 0.25,0.30,0.31, 0.5, 0.75, 0.80, 0.9,0.91,0.95,0.96,0.97,0.975,0.98,0.99,1])\n",
        "round(util_percentiles,2)"
      ],
      "metadata": {
        "colab": {
          "base_uri": "https://localhost:8080/"
        },
        "id": "vEY_qi7TIzoH",
        "outputId": "5d0f04ca-65ac-4a99-bedc-cc04c323ccca"
      },
      "execution_count": null,
      "outputs": [
        {
          "output_type": "execute_result",
          "data": {
            "text/plain": [
              "0.000      510.00\n",
              "0.050     1283.30\n",
              "0.100     1501.00\n",
              "0.250     2155.50\n",
              "0.300     2411.00\n",
              "0.310     2459.06\n",
              "0.500     3899.00\n",
              "0.750     4741.00\n",
              "0.800     4926.00\n",
              "0.900     8212.40\n",
              "0.910     8568.30\n",
              "0.950    14212.00\n",
              "0.960    14543.92\n",
              "0.970    14932.44\n",
              "0.975    15096.70\n",
              "0.980    15281.48\n",
              "0.990    15882.36\n",
              "1.000    18484.00\n",
              "Name: Total_Trans_Amt, dtype: float64"
            ]
          },
          "metadata": {},
          "execution_count": 28
        }
      ]
    },
    {
      "cell_type": "code",
      "source": [
        "median_util=Bank_Churner['Total_Trans_Amt'].median()\n",
        "median_util"
      ],
      "metadata": {
        "colab": {
          "base_uri": "https://localhost:8080/"
        },
        "id": "5EAYgNgqIzqA",
        "outputId": "063888e6-4825-47a1-b88a-9332b47c74bd"
      },
      "execution_count": null,
      "outputs": [
        {
          "output_type": "execute_result",
          "data": {
            "text/plain": [
              "3899.0"
            ]
          },
          "metadata": {},
          "execution_count": 46
        }
      ]
    },
    {
      "cell_type": "code",
      "source": [
        "median_util=Bank_Churner['Total_Trans_Amt'].mean()\n",
        "median_util"
      ],
      "metadata": {
        "colab": {
          "base_uri": "https://localhost:8080/"
        },
        "id": "3bACCBN3wJfG",
        "outputId": "632e06b5-30ca-402a-cc4c-52c458728613"
      },
      "execution_count": null,
      "outputs": [
        {
          "output_type": "execute_result",
          "data": {
            "text/plain": [
              "4404.086303939963"
            ]
          },
          "metadata": {},
          "execution_count": 47
        }
      ]
    },
    {
      "cell_type": "code",
      "source": [
        "plt.boxplot(Bank_Churner[\"Total_Trans_Ct\"])"
      ],
      "metadata": {
        "colab": {
          "base_uri": "https://localhost:8080/",
          "height": 410
        },
        "id": "2wtzy6JyIzyo",
        "outputId": "beae92fa-e160-46b3-b5a7-edc1d1f3a983"
      },
      "execution_count": null,
      "outputs": [
        {
          "output_type": "execute_result",
          "data": {
            "text/plain": [
              "{'whiskers': [<matplotlib.lines.Line2D at 0x7f5ebd7daa10>,\n",
              "  <matplotlib.lines.Line2D at 0x7f5ebd7daf50>],\n",
              " 'caps': [<matplotlib.lines.Line2D at 0x7f5ebd7df4d0>,\n",
              "  <matplotlib.lines.Line2D at 0x7f5ebd7dfa10>],\n",
              " 'boxes': [<matplotlib.lines.Line2D at 0x7f5ebd7da450>],\n",
              " 'medians': [<matplotlib.lines.Line2D at 0x7f5ebd7dff90>],\n",
              " 'fliers': [<matplotlib.lines.Line2D at 0x7f5ebd7e6510>],\n",
              " 'means': []}"
            ]
          },
          "metadata": {},
          "execution_count": 30
        },
        {
          "output_type": "display_data",
          "data": {
            "text/plain": [
              "<Figure size 432x288 with 1 Axes>"
            ],
            "image/png": "[encoded data removed]"
          },
          "metadata": {
            "needs_background": "light"
          }
        }
      ]
    },
    {
      "cell_type": "code",
      "source": [
        "util_percentiles=Bank_Churner['Total_Trans_Ct'].quantile([0, 0.05, 0.1, 0.25,0.30,0.31, 0.5, 0.75, 0.80, 0.9,0.91,0.95,0.96,0.97,0.975,0.98,0.99,1])\n",
        "round(util_percentiles,2)"
      ],
      "metadata": {
        "colab": {
          "base_uri": "https://localhost:8080/"
        },
        "id": "Hl5otT9gS6Eu",
        "outputId": "8047f342-66f3-4c8e-b72b-d24a752646aa"
      },
      "execution_count": null,
      "outputs": [
        {
          "output_type": "execute_result",
          "data": {
            "text/plain": [
              "0.000     10.0\n",
              "0.050     28.0\n",
              "0.100     33.0\n",
              "0.250     45.0\n",
              "0.300     50.0\n",
              "0.310     51.0\n",
              "0.500     67.0\n",
              "0.750     81.0\n",
              "0.800     83.0\n",
              "0.900     92.0\n",
              "0.910     94.0\n",
              "0.950    105.0\n",
              "0.960    110.0\n",
              "0.970    114.0\n",
              "0.975    116.0\n",
              "0.980    118.0\n",
              "0.990    123.0\n",
              "1.000    139.0\n",
              "Name: Total_Trans_Ct, dtype: float64"
            ]
          },
          "metadata": {},
          "execution_count": 31
        }
      ]
    },
    {
      "cell_type": "code",
      "source": [
        "median_util=Bank_Churner['Total_Trans_Ct'].median()\n",
        "median_util"
      ],
      "metadata": {
        "colab": {
          "base_uri": "https://localhost:8080/"
        },
        "id": "71TalHDwTDat",
        "outputId": "342ad435-ce15-4df7-b226-68d5bf337591"
      },
      "execution_count": null,
      "outputs": [
        {
          "output_type": "execute_result",
          "data": {
            "text/plain": [
              "67.0"
            ]
          },
          "metadata": {},
          "execution_count": 48
        }
      ]
    },
    {
      "cell_type": "code",
      "source": [
        "median_util=Bank_Churner['Total_Trans_Ct'].mean()\n",
        "median_util"
      ],
      "metadata": {
        "colab": {
          "base_uri": "https://localhost:8080/"
        },
        "id": "iStNkRXUwc1o",
        "outputId": "7d0dfaff-23fe-4c06-d1bb-dfa53808c250"
      },
      "execution_count": null,
      "outputs": [
        {
          "output_type": "execute_result",
          "data": {
            "text/plain": [
              "64.85869457884863"
            ]
          },
          "metadata": {},
          "execution_count": 49
        }
      ]
    },
    {
      "cell_type": "code",
      "source": [
        "plt.boxplot(Bank_Churner[\"Total_Ct_Chng_Q4_Q1\"])"
      ],
      "metadata": {
        "colab": {
          "base_uri": "https://localhost:8080/",
          "height": 410
        },
        "id": "8xrXvRDFWa13",
        "outputId": "290b741f-9b0d-4592-9bf1-b986f22bd8d0"
      },
      "execution_count": null,
      "outputs": [
        {
          "output_type": "execute_result",
          "data": {
            "text/plain": [
              "{'whiskers': [<matplotlib.lines.Line2D at 0x7f5ebd74ed90>,\n",
              "  <matplotlib.lines.Line2D at 0x7f5ebd751310>],\n",
              " 'caps': [<matplotlib.lines.Line2D at 0x7f5ebd751850>,\n",
              "  <matplotlib.lines.Line2D at 0x7f5ebd751d90>],\n",
              " 'boxes': [<matplotlib.lines.Line2D at 0x7f5ebd74e7d0>],\n",
              " 'medians': [<matplotlib.lines.Line2D at 0x7f5ebd75a350>],\n",
              " 'fliers': [<matplotlib.lines.Line2D at 0x7f5ebd75a890>],\n",
              " 'means': []}"
            ]
          },
          "metadata": {},
          "execution_count": 33
        },
        {
          "output_type": "display_data",
          "data": {
            "text/plain": [
              "<Figure size 432x288 with 1 Axes>"
            ],
            "image/png": "[encoded data removed]"
          },
          "metadata": {
            "needs_background": "light"
          }
        }
      ]
    },
    {
      "cell_type": "code",
      "source": [
        "util_percentiles=Bank_Churner['Total_Ct_Chng_Q4_Q1'].quantile([0, 0.05, 0.1, 0.25,0.30,0.31, 0.5, 0.75, 0.80, 0.9,0.91,0.95,0.96,0.97,0.975,0.98,0.99,1])\n",
        "round(util_percentiles,2)"
      ],
      "metadata": {
        "colab": {
          "base_uri": "https://localhost:8080/"
        },
        "id": "UFyF3wO4Wa62",
        "outputId": "d4b8dcbb-49f6-4cbd-d697-4a2285088cce"
      },
      "execution_count": null,
      "outputs": [
        {
          "output_type": "execute_result",
          "data": {
            "text/plain": [
              "0.000    0.00\n",
              "0.050    0.37\n",
              "0.100    0.45\n",
              "0.250    0.58\n",
              "0.300    0.61\n",
              "0.310    0.61\n",
              "0.500    0.70\n",
              "0.750    0.82\n",
              "0.800    0.85\n",
              "0.900    0.95\n",
              "0.910    0.97\n",
              "0.950    1.07\n",
              "0.960    1.11\n",
              "0.970    1.17\n",
              "0.975    1.21\n",
              "0.980    1.27\n",
              "0.990    1.46\n",
              "1.000    3.71\n",
              "Name: Total_Ct_Chng_Q4_Q1, dtype: float64"
            ]
          },
          "metadata": {},
          "execution_count": 34
        }
      ]
    },
    {
      "cell_type": "code",
      "source": [
        "median_util=Bank_Churner['Total_Ct_Chng_Q4_Q1'].median()\n",
        "median_util"
      ],
      "metadata": {
        "colab": {
          "base_uri": "https://localhost:8080/"
        },
        "id": "3ABiViuQWa_m",
        "outputId": "518195dc-920b-496e-f6e9-3f12937400ed"
      },
      "execution_count": null,
      "outputs": [
        {
          "output_type": "execute_result",
          "data": {
            "text/plain": [
              "0.702"
            ]
          },
          "metadata": {},
          "execution_count": 50
        }
      ]
    },
    {
      "cell_type": "code",
      "source": [
        "median_util=Bank_Churner['Total_Ct_Chng_Q4_Q1'].mean()\n",
        "median_util"
      ],
      "metadata": {
        "colab": {
          "base_uri": "https://localhost:8080/"
        },
        "id": "GqM1KM2pwjZF",
        "outputId": "935c2e36-a28d-4c56-a684-714dc677db48"
      },
      "execution_count": null,
      "outputs": [
        {
          "output_type": "execute_result",
          "data": {
            "text/plain": [
              "0.7122223758269972"
            ]
          },
          "metadata": {},
          "execution_count": 52
        }
      ]
    },
    {
      "cell_type": "code",
      "source": [
        "plt.boxplot(Bank_Churner[\"Avg_Utilization_Ratio\"])"
      ],
      "metadata": {
        "colab": {
          "base_uri": "https://localhost:8080/",
          "height": 410
        },
        "id": "rM5ruikaWsA3",
        "outputId": "ec56bb38-03d3-47e2-c19a-b4820ef98bc7"
      },
      "execution_count": null,
      "outputs": [
        {
          "output_type": "execute_result",
          "data": {
            "text/plain": [
              "{'whiskers': [<matplotlib.lines.Line2D at 0x7f5ebd5b5690>,\n",
              "  <matplotlib.lines.Line2D at 0x7f5ebd5b5bd0>],\n",
              " 'caps': [<matplotlib.lines.Line2D at 0x7f5ebd5bd150>,\n",
              "  <matplotlib.lines.Line2D at 0x7f5ebd5bd690>],\n",
              " 'boxes': [<matplotlib.lines.Line2D at 0x7f5ebd5b5090>],\n",
              " 'medians': [<matplotlib.lines.Line2D at 0x7f5ebd5bdc10>],\n",
              " 'fliers': [<matplotlib.lines.Line2D at 0x7f5ebd5c5190>],\n",
              " 'means': []}"
            ]
          },
          "metadata": {},
          "execution_count": 36
        },
        {
          "output_type": "display_data",
          "data": {
            "text/plain": [
              "<Figure size 432x288 with 1 Axes>"
            ],
            "image/png": "[encoded data removed]"
          },
          "metadata": {
            "needs_background": "light"
          }
        }
      ]
    },
    {
      "cell_type": "code",
      "source": [
        "util_percentiles=Bank_Churner['Avg_Utilization_Ratio'].quantile([0, 0.05, 0.1, 0.25,0.30,0.31, 0.5, 0.75, 0.80, 0.9,0.91,0.95,0.96,0.97,0.975,0.98,0.99,1])\n",
        "round(util_percentiles,2)"
      ],
      "metadata": {
        "colab": {
          "base_uri": "https://localhost:8080/"
        },
        "id": "BUBt7k5JWsE0",
        "outputId": "9ad90291-1b12-4d19-ae85-637391cd5ebe"
      },
      "execution_count": null,
      "outputs": [
        {
          "output_type": "execute_result",
          "data": {
            "text/plain": [
              "0.000    0.00\n",
              "0.050    0.00\n",
              "0.100    0.00\n",
              "0.250    0.02\n",
              "0.300    0.05\n",
              "0.310    0.06\n",
              "0.500    0.18\n",
              "0.750    0.50\n",
              "0.800    0.57\n",
              "0.900    0.71\n",
              "0.910    0.72\n",
              "0.950    0.79\n",
              "0.960    0.81\n",
              "0.970    0.84\n",
              "0.975    0.85\n",
              "0.980    0.87\n",
              "0.990    0.91\n",
              "1.000    1.00\n",
              "Name: Avg_Utilization_Ratio, dtype: float64"
            ]
          },
          "metadata": {},
          "execution_count": 37
        }
      ]
    },
    {
      "cell_type": "code",
      "source": [
        "median_util=Bank_Churner['Avg_Utilization_Ratio'].median()\n",
        "median_util"
      ],
      "metadata": {
        "colab": {
          "base_uri": "https://localhost:8080/"
        },
        "id": "DqktkisVWsOK",
        "outputId": "50fdb997-f99a-4b71-a259-9379b2b91451"
      },
      "execution_count": null,
      "outputs": [
        {
          "output_type": "execute_result",
          "data": {
            "text/plain": [
              "0.176"
            ]
          },
          "metadata": {},
          "execution_count": 54
        }
      ]
    },
    {
      "cell_type": "code",
      "source": [
        "median_util=Bank_Churner['Avg_Utilization_Ratio'].mean()\n",
        "median_util"
      ],
      "metadata": {
        "colab": {
          "base_uri": "https://localhost:8080/"
        },
        "id": "nEUfYvt_wyJG",
        "outputId": "d3f58fac-a7a9-44ec-86f8-a9ad28f98261"
      },
      "execution_count": null,
      "outputs": [
        {
          "output_type": "execute_result",
          "data": {
            "text/plain": [
              "0.2748935518909845"
            ]
          },
          "metadata": {},
          "execution_count": 53
        }
      ]
    },
    {
      "cell_type": "markdown",
      "source": [
        "# Model Building\n",
        "\n",
        "Select the right model, Include Feature Engineering, Perform Model Validation, Multiple models and performance comparison"
      ],
      "metadata": {
        "id": "Pe4_Scn-S6Ys"
      }
    },
    {
      "cell_type": "code",
      "source": [],
      "metadata": {
        "id": "qOM3QYZHS9mt"
      },
      "execution_count": null,
      "outputs": []
    },
    {
      "cell_type": "code",
      "source": [],
      "metadata": {
        "id": "1dj6ZZTSS9wk"
      },
      "execution_count": null,
      "outputs": []
    },
    {
      "cell_type": "markdown",
      "source": [
        "# Model Validation\n",
        "\n",
        "Confusion matrix, Sensitivity, Specificity, F1 Score, Recall, Precision etc."
      ],
      "metadata": {
        "id": "kGiJMiW2TAru"
      }
    },
    {
      "cell_type": "code",
      "source": [],
      "metadata": {
        "id": "SX15Ja0gTDqH"
      },
      "execution_count": null,
      "outputs": []
    },
    {
      "cell_type": "code",
      "source": [],
      "metadata": {
        "id": "BM-1FUrkTD0-"
      },
      "execution_count": null,
      "outputs": []
    },
    {
      "cell_type": "markdown",
      "source": [
        "# Model Deployment\n",
        "Optional step"
      ],
      "metadata": {
        "id": "3sSt-PZSTGVF"
      }
    },
    {
      "cell_type": "code",
      "source": [],
      "metadata": {
        "id": "_1awJAQxTI-u"
      },
      "execution_count": null,
      "outputs": []
    },
    {
      "cell_type": "code",
      "source": [],
      "metadata": {
        "id": "GMzB3accTJH-"
      },
      "execution_count": null,
      "outputs": []
    }
  ]
}